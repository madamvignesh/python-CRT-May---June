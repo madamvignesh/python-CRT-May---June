{
 "cells": [
  {
   "cell_type": "markdown",
   "id": "fac14982",
   "metadata": {},
   "source": [
    "## Understanding 2D Arrays\n",
    "\n",
    "A **2D array** (two-dimensional array) is a data structure that stores data in a grid or table format, consisting of rows and columns. It can be visualized as an array of arrays, where each element of the main array is itself an array.\n",
    "\n",
    "### Structure\n",
    "\n",
    "- **Rows and Columns:**  \n",
    "    A 2D array with `m` rows and `n` columns can be represented as a matrix with `m × n` elements.\n",
    "- **Indexing:**  \n",
    "    Elements are accessed using two indices: the first for the row and the second for the column (e.g., `array[row][column]`).\n",
    "\n",
    "### Example\n",
    "\n",
    "Suppose we have a 2D array representing a 3x3 matrix:\n",
    "\n",
    "```\n",
    "1  2  3\n",
    "4  5  6\n",
    "7  8  9\n",
    "```\n",
    "\n",
    "In Python, this can be represented as:\n",
    "\n",
    "```python\n",
    "matrix = [\n",
    "        [1, 2, 3],\n",
    "        [4, 5, 6],\n",
    "        [7, 8, 9]\n",
    "]\n",
    "```\n"
   ]
  },
  {
   "cell_type": "code",
   "execution_count": 3,
   "id": "4c99ad88",
   "metadata": {},
   "outputs": [
    {
     "name": "stdout",
     "output_type": "stream",
     "text": [
      "[[1, 2, 3], [4, 5, 6], [7, 8, 9]]\n",
      "[[9, 8, 7], [6, 5, 4], [3, 2, 1]]\n",
      "[[10, 10, 10], [10, 10, 10], [10, 10, 10]]\n"
     ]
    }
   ],
   "source": [
    "m = int(input())\n",
    "n = int(input())\n",
    "mat_A = []\n",
    "for i in range(m):\n",
    "    row = []\n",
    "    for j in range(n):\n",
    "        ele = int(input())\n",
    "        row.append(ele)\n",
    "    mat_A.append(row)\n",
    "m = int(input())\n",
    "n = int(input())\n",
    "mat_b = []\n",
    "for i in range(m):\n",
    "    row = []\n",
    "    for j in range(n):\n",
    "        ele = int(input())\n",
    "        row.append(ele)\n",
    "    mat_b.append(row)\n",
    "print(mat_A)\n",
    "print(mat_b)\n",
    "res_mat = []\n",
    "for i in range(m):\n",
    "    row = []\n",
    "    for j in range(n):\n",
    "        temp = mat_A[i][j] + mat_b[i][j]\n",
    "        row.append(temp)\n",
    "    res_mat.append(row)\n",
    "print(res_mat)\n"
   ]
  },
  {
   "cell_type": "code",
   "execution_count": null,
   "id": "fad495a1",
   "metadata": {},
   "outputs": [
    {
     "name": "stdout",
     "output_type": "stream",
     "text": [
      "5\n"
     ]
    }
   ],
   "source": []
  },
  {
   "cell_type": "code",
   "execution_count": null,
   "id": "9dae76b8",
   "metadata": {},
   "outputs": [],
   "source": [
    "1"
   ]
  }
 ],
 "metadata": {
  "kernelspec": {
   "display_name": "Python 3",
   "language": "python",
   "name": "python3"
  },
  "language_info": {
   "codemirror_mode": {
    "name": "ipython",
    "version": 3
   },
   "file_extension": ".py",
   "mimetype": "text/x-python",
   "name": "python",
   "nbconvert_exporter": "python",
   "pygments_lexer": "ipython3",
   "version": "3.7.0"
  }
 },
 "nbformat": 4,
 "nbformat_minor": 5
}
