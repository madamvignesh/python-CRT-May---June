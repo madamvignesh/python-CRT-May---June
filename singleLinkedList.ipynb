{
 "cells": [
  {
   "cell_type": "code",
   "execution_count": 5,
   "id": "525b211c",
   "metadata": {},
   "outputs": [
    {
     "name": "stdout",
     "output_type": "stream",
     "text": [
      "20  => 10  => 25  => 30 => None\n",
      "10  => 25 => None\n",
      "False\n",
      "True\n"
     ]
    }
   ],
   "source": [
    "class Node:\n",
    "    def __init__(self, data):\n",
    "        self.data = data\n",
    "        self.next = None\n",
    "\n",
    "class SinglyLinkedList:\n",
    "    def __init__(self):\n",
    "        self.head = None\n",
    "\n",
    "    def insert_at_beginning(self, data):\n",
    "        new_node = Node(data)\n",
    "        new_node.next = self.head\n",
    "        self.head = new_node\n",
    "\n",
    "    def insert_at_end(self, data):\n",
    "        new_node = Node(data)\n",
    "        if not self.head:\n",
    "            self.head = new_node\n",
    "            return\n",
    "        curr = self.head\n",
    "        while curr.next:\n",
    "            curr = curr.next\n",
    "        curr.next = new_node\n",
    "\n",
    "    def insert_at_position(self, data, position):\n",
    "        if position <= 0:\n",
    "            raise IndexError(\"Position must be >= 1\")\n",
    "        new_node = Node(data)\n",
    "        if position == 1:\n",
    "            new_node.next = self.head\n",
    "            self.head = new_node\n",
    "            return\n",
    "        curr = self.head\n",
    "        for _ in range(position - 2):\n",
    "            if not curr:\n",
    "                raise IndexError(\"Position out of bounds\")\n",
    "            curr = curr.next\n",
    "        if not curr:\n",
    "            raise IndexError(\"Position out of bounds\")\n",
    "        new_node.next = curr.next\n",
    "        curr.next = new_node\n",
    "\n",
    "    def display(self):\n",
    "        curr = self.head\n",
    "        while curr:\n",
    "            if curr.next is None:\n",
    "                print(curr.data, end=' => None\\n')\n",
    "            else:\n",
    "                print(curr.data, end='  => ')\n",
    "            curr = curr.next\n",
    "        return \n",
    "    def delete_at_beginning(self):\n",
    "        if not self.head:\n",
    "            return\n",
    "        self.head = self.head.next\n",
    "    def delete_at_end(self):\n",
    "        if not self.head:\n",
    "            return\n",
    "        if not self.head.next:\n",
    "            self.head = None\n",
    "            return\n",
    "        curr = self.head\n",
    "        while curr.next and curr.next.next:\n",
    "            curr = curr.next\n",
    "        curr.next = None\n",
    "    def delete_at_position(self, position):\n",
    "        if position <= 0:\n",
    "            raise IndexError(\"Position must be >= 1\")\n",
    "        if not self.head:\n",
    "            raise IndexError(\"List is empty\")\n",
    "        if position == 1:\n",
    "            self.head = self.head.next\n",
    "            return\n",
    "        curr = self.head\n",
    "        for _ in range(position - 2):\n",
    "            if not curr or not curr.next:\n",
    "                raise IndexError(\"Position out of bounds\")\n",
    "            curr = curr.next\n",
    "        if not curr.next:\n",
    "            raise IndexError(\"Position out of bounds\")\n",
    "        curr.next = curr.next.next\n",
    "    def search(self, data):\n",
    "        curr = self.head\n",
    "        while curr:\n",
    "            if curr.data == data:\n",
    "                return True\n",
    "            curr = curr.next\n",
    "        return False\n",
    "\n",
    "l1 = SinglyLinkedList()\n",
    "l1.insert_at_beginning(10)\n",
    "l1.insert_at_beginning(20)\n",
    "l1.insert_at_end(30)\n",
    "l1.insert_at_position(25, 3)\n",
    "l1.display() \n",
    "l1.delete_at_beginning()\n",
    "l1.delete_at_end()\n",
    "l1.display()\n",
    "print(l1.search(20))  # Should return False\n",
    "print(l1.search(25))  # Should return True"
   ]
  },
  {
   "cell_type": "code",
   "execution_count": 11,
   "id": "c2e6ea8d",
   "metadata": {},
   "outputs": [
    {
     "name": "stdout",
     "output_type": "stream",
     "text": [
      "[15, 20, 25, 30]\n",
      "[1, 2, 3, 4, 5, 6, 7, 8, 9, 10, 11, 12, 13, 14, 15, 16, 17, 18, 19, 20, 21, 22, 23, 24, 25, 26, 27, 28, 29, 30, 31, 32, 33, 34, 35, 36, 37, 38, 39, 40, 41, 42, 43, 44, 45, 46, 47, 48, 49, 50, 51, 52, 53, 54, 55, 56, 57, 58, 59, 60, 61, 62, 63, 64, 65, 66, 67, 68, 69, 70, 71, 72, 73, 74, 75, 76, 77, 78, 79]\n"
     ]
    }
   ],
   "source": [
    "# filter numbers less than 18 in array using filter \n",
    "arr = [12, 15, 18, 20, 25, 30]\n",
    "filtered_arr = list(filter(lambda x: x%5 == 0, arr))\n",
    "print(filtered_arr)  # Should print [12, 15]\n",
    "arr = [x for x in range(1,80)]\n",
    "print(arr)"
   ]
  },
  {
   "cell_type": "code",
   "execution_count": null,
   "id": "998d48cd",
   "metadata": {},
   "outputs": [],
   "source": []
  }
 ],
 "metadata": {
  "kernelspec": {
   "display_name": "Python 3",
   "language": "python",
   "name": "python3"
  },
  "language_info": {
   "codemirror_mode": {
    "name": "ipython",
    "version": 3
   },
   "file_extension": ".py",
   "mimetype": "text/x-python",
   "name": "python",
   "nbconvert_exporter": "python",
   "pygments_lexer": "ipython3",
   "version": "3.7.0"
  }
 },
 "nbformat": 4,
 "nbformat_minor": 5
}
