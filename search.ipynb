{
 "cells": [
  {
   "cell_type": "markdown",
   "id": "b84fa94b",
   "metadata": {},
   "source": [
    "## Search Methods in Python\n",
    "\n",
    "### 1. Linear Search (Theory)\n",
    "\n",
    "Linear search is a simple searching algorithm that checks each element in a sequence one by one until the desired value is found or the end of the sequence is reached. It does not require the data to be sorted and works on any iterable data structure.imple searching algorithm that checks each element in a sequence one by one until the desired value is found or the end of the sequence is reached. It does not require the data to be sorted and works on any iterable data structure.\n",
    "\n",
    "### 2. Binary Search (Theory)\n",
    "\n",
    "Binary search is an efficient searching algorithm used on sorted sequences. It works by repeatedly dividing the search interval in half. At each step, it compares the target value to the middle element of the interval. If they are not equal, it eliminates half of the interval and continues searching in the remaining half until the value is found or the interval is empty.arch is an efficient searching algorithm used on sorted sequences. It works by repeatedly dividing the search interval in half. At each step, it compares the target value to the middle element of the interval. If they are not equal, it eliminates half of the interval and continues searching in the remaining half until the value is found or the interval is empty.\n"
   ]
  },
  {
   "cell_type": "code",
   "execution_count": 3,
   "id": "cf151fc1",
   "metadata": {},
   "outputs": [
    {
     "name": "stdout",
     "output_type": "stream",
     "text": [
      "-1\n"
     ]
    }
   ],
   "source": [
    "def linear_search(arr, target):\n",
    "    \"\"\"Perform linear search on the given list.Returns the index of target if found, else -1.\n",
    "    \"\"\"\n",
    "    for i in range(len(arr)):\n",
    "        value = arr[i]\n",
    "        if value == target:\n",
    "            return i\n",
    "    return -1\n",
    "arr = [24,67,89,90,94,98,99,101,108,110]\n",
    "target = 97\n",
    "res_1 = linear_search(arr, target)\n",
    "print(res_1)"
   ]
  },
  {
   "cell_type": "markdown",
   "id": "5fceced1",
   "metadata": {},
   "source": [
    "Imagine you have a list of employee names in a company directory.\n",
    "employee_names = [\"Alice Johnson\", \"Bob Smith\", \"Charlie Lee\", \"Diana Prince\", \"Eve Adams\"]\n",
    "search_name = \"Diana Prince\"\n",
    "\n",
    "Write a function that performs a linear search to find the index of 'search_name' in 'employee_names'.\n",
    "\n",
    "If found, return the index. If not found, return -1.\n",
    "\n",
    "Your function should return 3, since \"Diana Prince\" is at index 3.\n"
   ]
  },
  {
   "cell_type": "code",
   "execution_count": 5,
   "id": "5ff7b25c",
   "metadata": {},
   "outputs": [
    {
     "name": "stdout",
     "output_type": "stream",
     "text": [
      "3\n"
     ]
    }
   ],
   "source": [
    "def linear_search(arr, target):\n",
    "    \"\"\"Perform linear search on the given list.Returns the index of target if found, else -1.\n",
    "    \"\"\"\n",
    "    for i in range(len(arr)):\n",
    "        value = arr[i]\n",
    "        if value == target:\n",
    "            return i\n",
    "    return -1\n",
    "arr = [\"Alice Johnson\", \"Bob Smith\", \"Charlie Lee\", \"Diana Prince\", \"Eve Adams\"]\n",
    "target = \"Diana Prince\"\n",
    "res_1 = linear_search(arr, target)\n",
    "print(res_1)"
   ]
  },
  {
   "cell_type": "markdown",
   "id": "bbf52c85",
   "metadata": {},
   "source": [
    "### Linear Search Real-Life Scenario\n",
    "\n",
    "Suppose you are managing a library and have a list of book IDs representing books currently available on the shelf:\n",
    "\n",
    "```python\n",
    "book_ids = [1023, 1045, 1078, 1100, 1156, 1201, 1234, 1278, 1300, 1350]\n",
    "search_id = 1201\n",
    "```\n",
    "\n",
    "Write a function that performs a linear search to find the index of `search_id` in `book_ids`.\n",
    "\n",
    "If found, return the index. If not found, return -1.\n",
    "\n",
    "Your function should return 5, since the book with ID 1201 is at index 5."
   ]
  },
  {
   "cell_type": "code",
   "execution_count": null,
   "id": "fad9ab49",
   "metadata": {},
   "outputs": [
    {
     "name": "stdout",
     "output_type": "stream",
     "text": [
      "-1\n"
     ]
    }
   ],
   "source": [
    "def binary_search(arr, target):\n",
    "    \"\"\"Perform binary search on the given sorted list. Returns the index of target if found, else -1.\n",
    "    \"\"\"\n",
    "    left, right = 0, len(arr) - 1\n",
    "    if arr[left] > target or arr[right] < target:\n",
    "        return -1\n",
    "    while left <= right:\n",
    "        mid = (left + right) // 2\n",
    "        if arr[mid] == target:\n",
    "            return mid\n",
    "        elif arr[mid] < target:\n",
    "            left = mid + 1\n",
    "        else:\n",
    "            right = mid - 1\n",
    "    return -1\n",
    "arr = [34,36,67,89,90,97,99,100]\n",
    "print(binary_search(arr,30))\n"
   ]
  },
  {
   "cell_type": "code",
   "execution_count": null,
   "id": "18b127c4",
   "metadata": {},
   "outputs": [],
   "source": [
    "# rotation array\n",
    "def binary_search(arr,target):\n",
    "    low , high = 0, len(arr) - 1\n",
    "    while low <= high:\n",
    "        mid = (low + high) // 2\n",
    "        if arr[mid] == target:\n",
    "            return mid\n",
    "        # Check if the left half is sorted\n",
    "        if arr[low] <= arr[mid]:\n",
    "            if arr[low] <= target < arr[mid]:\n",
    "                high = mid - 1\n",
    "            else:\n",
    "                low = mid + 1\n",
    "        # Right half is sorted\n",
    "        else:\n",
    "            if arr[mid] < target <= arr[high]:\n",
    "                low = mid + 1\n",
    "            else:\n",
    "                high = mid - 1\n",
    "    return -1"
   ]
  },
  {
   "cell_type": "code",
   "execution_count": null,
   "id": "ca34956a",
   "metadata": {},
   "outputs": [
    {
     "name": "stdout",
     "output_type": "stream",
     "text": [
      "9\n"
     ]
    }
   ],
   "source": [
    "# Find first index of target in duplicate array\n",
    "def binary_search_first(arr, target):\n",
    "    low, high = 0, len(arr) - 1\n",
    "    result = -1\n",
    "    while low <= high:\n",
    "        mid = (low + high) // 2\n",
    "        if arr[mid] == target:\n",
    "            result = mid\n",
    "            high = mid - 1  # Keep searching to the left\n",
    "        elif arr[mid] > target:\n",
    "            high = mid - 1\n",
    "        else:\n",
    "            low = mid + 1\n",
    "    return result\n",
    "\n",
    "# Example usage\n",
    "arr = [2, 2, 2, 3, 4, 5, 5, 5, 6, 7, 7, 8, 9]\n",
    "target = 0\n",
    "result = binary_search_first(arr, target)\n",
    "print(result)  # Output: 0"
   ]
  },
  {
   "cell_type": "code",
   "execution_count": null,
   "id": "33894806",
   "metadata": {},
   "outputs": [],
   "source": [
    "# Find first index of target in rotation duplicate array\n",
    "def binary_search_first_rotated(arr, target):\n",
    "    low, high = 0, len(arr) - 1\n",
    "    result = -1\n",
    "    while low <= high:\n",
    "        mid = (low + high) // 2\n",
    "        if arr[mid] == target:\n",
    "            result = mid\n",
    "            high = mid - 1  # Keep searching to the left\n",
    "        elif arr[mid] >= arr[low]:  # Left half is sorted\n",
    "            if arr[low] <= target < arr[mid]:\n",
    "                high = mid - 1\n",
    "            else:\n",
    "                low = mid + 1\n",
    "        else:  # Right half is sorted\n",
    "            if arr[mid] < target <= arr[high]:\n",
    "                low = mid + 1\n",
    "            else:\n",
    "                high = mid - 1\n",
    "    return result"
   ]
  },
  {
   "cell_type": "markdown",
   "id": "c98060aa",
   "metadata": {},
   "source": [
    "### Binary Search in a Duplicate Number Array: Real-Life Scenario\n",
    "\n",
    "Suppose you are analyzing the attendance records of students in a school, where each student is assigned a unique roll number. However, due to a system error, some roll numbers appear multiple times in the sorted attendance list. You want to find the first occurrence of a specific roll number to verify when the student first attended.\n",
    "\n",
    "Given a sorted list of roll numbers (which may contain duplicates):\n",
    "\n",
    "```python\n",
    "attendance_roll_numbers = [2, 2, 2, 3, 4, 5, 5, 5, 6, 7, 7, 8, 9]\n",
    "search_roll_number = 7\n",
    "```\n",
    "\n",
    "Write a function using binary search to find the **first index** where `search_roll_number` appears in `attendance_roll_numbers`.\n",
    "\n",
    "If found, return the index. If not found, return -1.\n",
    "\n",
    "For the above example, your function should return `9`, since the roll number `7` first appears at index `9`."
   ]
  },
  {
   "cell_type": "markdown",
   "id": "6d549f0b",
   "metadata": {},
   "source": []
  }
 ],
 "metadata": {
  "kernelspec": {
   "display_name": "Python 3",
   "language": "python",
   "name": "python3"
  },
  "language_info": {
   "codemirror_mode": {
    "name": "ipython",
    "version": 3
   },
   "file_extension": ".py",
   "mimetype": "text/x-python",
   "name": "python",
   "nbconvert_exporter": "python",
   "pygments_lexer": "ipython3",
   "version": "3.7.0"
  }
 },
 "nbformat": 4,
 "nbformat_minor": 5
}
