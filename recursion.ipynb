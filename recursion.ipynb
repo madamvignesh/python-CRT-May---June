{
 "cells": [
  {
   "cell_type": "markdown",
   "id": "5b1f9f9b",
   "metadata": {},
   "source": [
    "1. **Factorial Calculation**  \n",
    "Write a recursive function to calculate the factorial of a given number `n`.\n",
    "\n",
    "2. **Fibonacci Sequence**  \n",
    "Create a recursive function that returns the nth number in the Fibonacci sequence.\n",
    "\n",
    "3. **Sum of Array Elements**  \n",
    "Write a recursive function to find the sum of all elements in a list.\n",
    "\n",
    "4. **Reverse a String**  \n",
    "Implement a recursive function to reverse a given string.\n",
    "\n",
    "5. **Power Calculation**  \n",
    "Write a recursive function to compute `x` raised to the power `n` (i.e., xⁿ).\n",
    "\n",
    "6. **Palindrome Check**  \n",
    "Create a recursive function to check if a given string is a palindrome.\n",
    "\n",
    "7. **Count Digits in a Number**  \n",
    "Write a recursive function to count the number of digits in a given integer.\n",
    "\n",
    "8. **Find Maximum in a List**  \n",
    "Implement a recursive function to find the maximum element in a list.\n",
    "\n",
    "9. **Sum of Digits**  \n",
    "Write a recursive function to calculate the sum of the digits of a given number.\n",
    "\n",
    "10. **Print Numbers from N to 1**  \n",
    "Create a recursive function to print numbers from `n` down to 1."
   ]
  },
  {
   "cell_type": "code",
   "execution_count": 2,
   "id": "d5efbafd",
   "metadata": {},
   "outputs": [
    {
     "name": "stdout",
     "output_type": "stream",
     "text": [
      "nth term of fibo series: 8\n"
     ]
    }
   ],
   "source": [
    "def fibo(n,a,b):\n",
    "    if n == 0:\n",
    "        return b\n",
    "    sum_ = a+b\n",
    "    a = b\n",
    "    b = sum_ \n",
    "    return fibo(n-1,a,b)\n",
    "n = int(input())\n",
    "a,b = [0,1]\n",
    "res = fibo(n,a,b)\n",
    "print(f\"nth term of fibo series: {res}\")\n"
   ]
  },
  {
   "cell_type": "code",
   "execution_count": 4,
   "id": "e10a60dc",
   "metadata": {},
   "outputs": [
    {
     "name": "stdout",
     "output_type": "stream",
     "text": [
      "256\n"
     ]
    }
   ],
   "source": [
    "def power_num(x,n):\n",
    "    if n == 0:\n",
    "        return 1\n",
    "    return x * power_num(x,n-1)\n",
    "x = int(input())\n",
    "n = int(input())\n",
    "print(power_num(x,n))"
   ]
  },
  {
   "cell_type": "code",
   "execution_count": 6,
   "id": "cb76117b",
   "metadata": {},
   "outputs": [
    {
     "name": "stdout",
     "output_type": "stream",
     "text": [
      "7 5 3 2 "
     ]
    }
   ],
   "source": [
    "def print_pn(n):\n",
    "    if n == 1:\n",
    "        return \n",
    "    flag = True \n",
    "    for i in range(2,n):\n",
    "        if n%i == 0:\n",
    "            flag = False\n",
    "            break \n",
    "    if flag:\n",
    "        print(n,end =\" \")\n",
    "    return print_pn(n-1)\n",
    "print_pn(10)"
   ]
  },
  {
   "cell_type": "markdown",
   "id": "3773a7d6",
   "metadata": {},
   "source": [
    "11. **Greatest Common Divisor (GCD)**  \n",
    "Write a recursive function to find the GCD of two numbers.\n",
    "\n",
    "12. **Sum of Natural Numbers**  \n",
    "Create a recursive function to calculate the sum of the first `n` natural numbers.\n",
    "\n",
    "13. **Product of Array Elements**  \n",
    "Write a recursive function to find the product of all elements in a list.\n",
    "\n",
    "14. **Check if Array is Sorted**  \n",
    "Implement a recursive function to check if a list is sorted in ascending order.\n",
    "\n",
    "15. **Find First Index of Element**  \n",
    "Create a recursive function to find the first index of a given element in a list."
   ]
  },
  {
   "cell_type": "code",
   "execution_count": null,
   "id": "ae9967df",
   "metadata": {},
   "outputs": [],
   "source": []
  }
 ],
 "metadata": {
  "kernelspec": {
   "display_name": "Python 3",
   "language": "python",
   "name": "python3"
  },
  "language_info": {
   "codemirror_mode": {
    "name": "ipython",
    "version": 3
   },
   "file_extension": ".py",
   "mimetype": "text/x-python",
   "name": "python",
   "nbconvert_exporter": "python",
   "pygments_lexer": "ipython3",
   "version": "3.7.0"
  }
 },
 "nbformat": 4,
 "nbformat_minor": 5
}
