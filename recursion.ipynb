{
 "cells": [
  {
   "cell_type": "markdown",
   "id": "5b1f9f9b",
   "metadata": {},
   "source": [
    "1. **Factorial Calculation**  \n",
    "Write a recursive function to calculate the factorial of a given number `n`.\n",
    "\n",
    "2. **Fibonacci Sequence**  \n",
    "Create a recursive function that returns the nth number in the Fibonacci sequence.\n",
    "\n",
    "3. **Sum of Array Elements**  \n",
    "Write a recursive function to find the sum of all elements in a list.\n",
    "\n",
    "4. **Reverse a String**  \n",
    "Implement a recursive function to reverse a given string.\n",
    "\n",
    "5. **Power Calculation**  \n",
    "Write a recursive function to compute `x` raised to the power `n` (i.e., xⁿ).\n",
    "\n",
    "6. **Palindrome Check**  \n",
    "Create a recursive function to check if a given string is a palindrome.\n",
    "\n",
    "7. **Count Digits in a Number**  \n",
    "Write a recursive function to count the number of digits in a given integer.\n",
    "\n",
    "8. **Find Maximum in a List**  \n",
    "Implement a recursive function to find the maximum element in a list.\n",
    "\n",
    "9. **Sum of Digits**  \n",
    "Write a recursive function to calculate the sum of the digits of a given number.\n",
    "\n",
    "10. **Print Numbers from N to 1**  \n",
    "Create a recursive function to print numbers from `n` down to 1."
   ]
  },
  {
   "cell_type": "markdown",
   "id": "203135d1",
   "metadata": {},
   "source": []
  }
 ],
 "metadata": {
  "language_info": {
   "name": "python"
  }
 },
 "nbformat": 4,
 "nbformat_minor": 5
}
