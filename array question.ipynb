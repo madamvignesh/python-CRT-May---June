{
 "cells": [
  {
   "cell_type": "code",
   "execution_count": 1,
   "id": "435c6766",
   "metadata": {},
   "outputs": [
    {
     "name": "stdout",
     "output_type": "stream",
     "text": [
      "4\n"
     ]
    }
   ],
   "source": [
    "n,m = list(map(int,input().split()))\n",
    "count_ = 0\n",
    "for num in range(n,m+1):\n",
    "    flag = True\n",
    "    temp = num\n",
    "    \n",
    "    for i in range(2,num):\n",
    "        if num%i == 0:\n",
    "            flag = False\n",
    "            continue\n",
    "    if flag:\n",
    "        mega_prime = True\n",
    "        while temp>0:\n",
    "            dg = temp%10\n",
    "            if dg == 0 or dg == 1:\n",
    "                mega_prime = False\n",
    "                break\n",
    "            for i in range(2,dg):\n",
    "                if dg%i == 0:\n",
    "                    mega_prime = False\n",
    "                    break\n",
    "            temp = temp//10\n",
    "        \n",
    "        if mega_prime:\n",
    "            count_+=1\n",
    "print(count_)"
   ]
  },
  {
   "cell_type": "code",
   "execution_count": 7,
   "id": "d4a863fc",
   "metadata": {},
   "outputs": [
    {
     "name": "stdout",
     "output_type": "stream",
     "text": [
      "28\n"
     ]
    }
   ],
   "source": [
    "year = int(input())\n",
    "mouth = int(input())\n",
    "if year % 4 == 0 and (year % 100 != 0 or year % 400 == 0) and mouth == 2:\n",
    "    print(29)\n",
    "else:\n",
    "    if mouth == 2:\n",
    "        print(28)\n",
    "    elif mouth in [4, 6, 9, 11]:\n",
    "        print(30)\n",
    "    else:\n",
    "        print(31)"
   ]
  },
  {
   "cell_type": "markdown",
   "id": "dcb7a1a8",
   "metadata": {},
   "source": [
    "Multiple of mat_b and mat_a... mat_a is order m x n and mat_b n x m order.."
   ]
  },
  {
   "cell_type": "code",
   "execution_count": 1,
   "id": "ed0cce9a",
   "metadata": {},
   "outputs": [
    {
     "name": "stdout",
     "output_type": "stream",
     "text": [
      "[[28, 16, 16], [70, 46, 49], [112, 76, 82]]\n"
     ]
    }
   ],
   "source": [
    "row, col = list(map(int,input().split()))\n",
    "matrix_a = []\n",
    "for i in range(row):\n",
    "    matrix_a.append(list(map(int, input().split())))\n",
    "row, col = list(map(int,input().split()))\n",
    "matrix_b = []\n",
    "for i in range(row):\n",
    "    matrix_b.append(list(map(int, input().split())))\n",
    "result = []\n",
    "for i in range(len(matrix_a)):\n",
    "    result.append([])\n",
    "    for j in range(len(matrix_b[0])):\n",
    "        sum_ = 0\n",
    "        for k in range(len(matrix_b)):\n",
    "            sum_ += matrix_a[i][k] * matrix_b[k][j]\n",
    "        result[i].append(sum_)\n",
    "\n",
    "print(result)\n"
   ]
  },
  {
   "cell_type": "code",
   "execution_count": null,
   "id": "bb50a891",
   "metadata": {},
   "outputs": [
    {
     "name": "stdout",
     "output_type": "stream",
     "text": [
      "[[1, 2, 3, 25], [2, 5, 8, 4], [1, 6, 8, 2], [2, 6, 4, 7]]\n",
      "25\n"
     ]
    }
   ],
   "source": [
    "row, col = list(map(int,input().split()))\n",
    "matA = []\n",
    "high = 0\n",
    "for i in range(row):\n",
    "    matA.append(list(map(int,input().split())))\n",
    "print(matA)\n",
    "for i in range(row):\n",
    "    for j in range(col):\n",
    "        if high < matA[i][j]:\n",
    "            high = matA[i][j]\n",
    "print(high)"
   ]
  },
  {
   "cell_type": "code",
   "execution_count": null,
   "id": "dfa2c320",
   "metadata": {},
   "outputs": [
    {
     "name": "stdout",
     "output_type": "stream",
     "text": [
      "[[1, 0], [5, 8]]\n",
      "0\n"
     ]
    }
   ],
   "source": [
    "row, col = list(map(int,input().split()))\n",
    "matA = []\n",
    "for i in range(row):\n",
    "    matA.append(list(map(int,input().split())))\n",
    "print(matA)\n",
    "lower = matA[0][0]\n",
    "for i in range(row):\n",
    "    for j in range(col):\n",
    "        if lower > matA[i][j]:\n",
    "            lower = matA[i][j]\n",
    "print(lower)"
   ]
  },
  {
   "cell_type": "code",
   "execution_count": 5,
   "id": "e6c53f22",
   "metadata": {},
   "outputs": [
    {
     "name": "stdout",
     "output_type": "stream",
     "text": [
      "[[1, 2, 3], [4, 5, 6], [7, 8, 9]]\n",
      "[[1, 4, 9], [16, 25, 36], [49, 64, 81]]\n"
     ]
    }
   ],
   "source": [
    "row, col = list(map(int,input().split()))\n",
    "matA = []\n",
    "for i in range(row):\n",
    "    matA.append(list(map(int,input().split())))\n",
    "print(matA)\n",
    "for i in range(row):\n",
    "    for j in range(col):\n",
    "        matA[i][j] = matA[i][j]**2\n",
    "print(matA)"
   ]
  },
  {
   "cell_type": "code",
   "execution_count": null,
   "id": "ff59b420",
   "metadata": {},
   "outputs": [
    {
     "name": "stdout",
     "output_type": "stream",
     "text": [
      "[[1, 2], [4, 5]]\n",
      "[[1, 2], [4, 5]]\n"
     ]
    }
   ],
   "source": [
    "row, col = list(map(int, input().split()))\n",
    "matA = []\n",
    "for i in range(row):\n",
    "    matA.append(list(map(int, input().split())))\n",
    "print(\"Original matrix:\")\n",
    "print(matA)\n",
    "\n",
    "# Transpose logic\n",
    "transpose = []\n",
    "for j in range(col):\n",
    "    new_row = []\n",
    "    for i in range(row):\n",
    "        new_row.append(matA[i][j])\n",
    "    transpose.append(new_row)\n",
    "\n",
    "print(\"Transposed matrix:\")\n",
    "print(transpose)"
   ]
  },
  {
   "cell_type": "markdown",
   "id": "ee4c7618",
   "metadata": {},
   "source": [
    "**Scenario Question:**\n",
    "\n",
    "You are developing a warehouse inventory management system. The warehouse receives shipments of products daily, and each shipment contains a list of product quantities. At the end of each day, you need to determine which product had the highest increase in stock compared to the previous day.\n",
    "\n",
    "**Description:**\n",
    "\n",
    "Given two arrays, `yesterday_stock` and `today_stock`, where each element at index `i` represents the quantity of product `i` in stock at the end of yesterday and today, respectively. Your task is to find the index of the product with the highest increase in stock and the amount of that increase.\n",
    "\n",
    "**Sample Input:**\n",
    "\n",
    "yesterday_stock = [100, 150, 200, 80]  \n",
    "today_stock = [120, 180, 210, 90]\n",
    "\n",
    "**Sample Output:**\n",
    "\n",
    "Product index with highest increase: 1  \n",
    "Increase amount: 30"
   ]
  },
  {
   "cell_type": "markdown",
   "id": "0ca8bddb",
   "metadata": {},
   "source": []
  }
 ],
 "metadata": {
  "kernelspec": {
   "display_name": "Python 3",
   "language": "python",
   "name": "python3"
  },
  "language_info": {
   "codemirror_mode": {
    "name": "ipython",
    "version": 3
   },
   "file_extension": ".py",
   "mimetype": "text/x-python",
   "name": "python",
   "nbconvert_exporter": "python",
   "pygments_lexer": "ipython3",
   "version": "3.7.0"
  }
 },
 "nbformat": 4,
 "nbformat_minor": 5
}
