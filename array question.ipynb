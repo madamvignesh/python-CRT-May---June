{
 "cells": [
  {
   "cell_type": "code",
   "execution_count": 1,
   "id": "435c6766",
   "metadata": {},
   "outputs": [
    {
     "name": "stdout",
     "output_type": "stream",
     "text": [
      "4\n"
     ]
    }
   ],
   "source": [
    "n,m = list(map(int,input().split()))\n",
    "count_ = 0\n",
    "for num in range(n,m+1):\n",
    "    flag = True\n",
    "    temp = num\n",
    "    \n",
    "    for i in range(2,num):\n",
    "        if num%i == 0:\n",
    "            flag = False\n",
    "            continue\n",
    "    if flag:\n",
    "        mega_prime = True\n",
    "        while temp>0:\n",
    "            dg = temp%10\n",
    "            if dg == 0 or dg == 1:\n",
    "                mega_prime = False\n",
    "                break\n",
    "            for i in range(2,dg):\n",
    "                if dg%i == 0:\n",
    "                    mega_prime = False\n",
    "                    break\n",
    "            temp = temp//10\n",
    "        \n",
    "        if mega_prime:\n",
    "            count_+=1\n",
    "print(count_)"
   ]
  },
  {
   "cell_type": "code",
   "execution_count": 7,
   "id": "d4a863fc",
   "metadata": {},
   "outputs": [
    {
     "name": "stdout",
     "output_type": "stream",
     "text": [
      "28\n"
     ]
    }
   ],
   "source": [
    "year = int(input())\n",
    "mouth = int(input())\n",
    "if year % 4 == 0 and (year % 100 != 0 or year % 400 == 0) and mouth == 2:\n",
    "    print(29)\n",
    "else:\n",
    "    if mouth == 2:\n",
    "        print(28)\n",
    "    elif mouth in [4, 6, 9, 11]:\n",
    "        print(30)\n",
    "    else:\n",
    "        print(31)"
   ]
  },
  {
   "cell_type": "markdown",
   "id": "dcb7a1a8",
   "metadata": {},
   "source": [
    "Multiple of mat_b and mat_a... mat_a is order m x n and mat_b n x m order.."
   ]
  },
  {
   "cell_type": "code",
   "execution_count": null,
   "id": "ed0cce9a",
   "metadata": {},
   "outputs": [
    {
     "name": "stdout",
     "output_type": "stream",
     "text": [
      "5 3\n",
      "3 5\n",
      "[[5, 3], [3, 5]]\n"
     ]
    }
   ],
   "source": [
    "row, col = list(map(int,input().split()))\n",
    "matrix_a = []\n",
    "for i in range(row):\n",
    "    matrix_a.append(list(map(int, input().split())))\n",
    "row, col = list(map(int,input().split()))\n",
    "matrix_b = []\n",
    "for i in range(row):\n",
    "    matrix_b.append(list(map(int, input().split())))\n",
    "result = []\n",
    "for i in range(len(matrix_a)):\n",
    "    result.append([])\n",
    "    for j in range(len(matrix_b[0])):\n",
    "        sum_ = 0\n",
    "        for k in range(len(matrix_b)):\n",
    "            sum_ += matrix_a[i][k] * matrix_b[k][j]\n",
    "        result[i].append(sum_)\n",
    "\n",
    "print(result)\n"
   ]
  },
  {
   "cell_type": "code",
   "execution_count": null,
   "id": "bb50a891",
   "metadata": {},
   "outputs": [],
   "source": []
  }
 ],
 "metadata": {
  "kernelspec": {
   "display_name": "Python 3",
   "language": "python",
   "name": "python3"
  },
  "language_info": {
   "codemirror_mode": {
    "name": "ipython",
    "version": 3
   },
   "file_extension": ".py",
   "mimetype": "text/x-python",
   "name": "python",
   "nbconvert_exporter": "python",
   "pygments_lexer": "ipython3",
   "version": "3.7.0"
  }
 },
 "nbformat": 4,
 "nbformat_minor": 5
}
