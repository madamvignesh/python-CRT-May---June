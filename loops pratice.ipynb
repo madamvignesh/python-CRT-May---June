{
 "cells": [
  {
   "cell_type": "markdown",
   "id": "14ebf7ef",
   "metadata": {},
   "source": [
    "### 20 Basic Beginner Loop Practice Questions\n",
    "\n",
    "1. Print numbers from 1 to 10 using a loop.\n",
    "2. Print all even numbers between 1 and 20.\n",
    "3. Print the multiplication table of 5.\n",
    "4. Print the sum of numbers from 1 to 100.\n",
    "5. Print each character of a given string using a loop.\n",
    "6. Print all elements of a given list using a loop.\n",
    "7. Print numbers from 10 to 1 in reverse order.\n",
    "8. Print the squares of numbers from 1 to 10.\n",
    "9. Print only the odd numbers from 1 to 20.\n",
    "10. Print the factorial of a given number using a loop.\n",
    "11. Print the elements of a list in reverse order.\n",
    "12. Print the first 10 Fibonacci numbers.\n",
    "13. Print all numbers from 1 to 50 that are divisible by 3.\n",
    "14. Print the sum of all even numbers between 1 and 50.\n",
    "15. Print all vowels in a given string.\n",
    "16. Print the length of each word in a given list of words.\n",
    "17. Print the product of all numbers in a given list.\n",
    "18. Print all numbers between 1 and 100 that are multiples of both 3 and 5.\n",
    "19. Print the largest number in a given list using a loop.\n",
    "20. Print a pattern of stars in the shape of a right triangle with 5 rows."
   ]
  },
  {
   "cell_type": "code",
   "execution_count": 3,
   "id": "dffd7015",
   "metadata": {},
   "outputs": [
    {
     "name": "stdout",
     "output_type": "stream",
     "text": [
      "<class 'int'> <class 'int'> <class 'int'> <class 'bool'> <class 'float'> <class 'str'> "
     ]
    }
   ],
   "source": [
    "arr = [ 1, 5, 10, True, 67.8, \"India\"]\n",
    "for data in arr:\n",
    "    print(type(data),end=\" \")"
   ]
  },
  {
   "cell_type": "code",
   "execution_count": 4,
   "id": "fcc3a49d",
   "metadata": {},
   "outputs": [
    {
     "name": "stdout",
     "output_type": "stream",
     "text": [
      "lenght of array is 5\n"
     ]
    }
   ],
   "source": [
    "arr = [1,5,True, 78.9, \"India\"]\n",
    "print(\"lenght of array is\", len(arr))"
   ]
  },
  {
   "cell_type": "code",
   "execution_count": 8,
   "id": "a413cc37",
   "metadata": {},
   "outputs": [
    {
     "name": "stdout",
     "output_type": "stream",
     "text": [
      "1 2 4 6 9 \n",
      "1 2 4 6 9 "
     ]
    }
   ],
   "source": [
    "arr = [1,2,4,6,9]\n",
    "for data in arr:\n",
    "    print(data,end=' ')\n",
    "print()\n",
    "for i in range(len(arr)):\n",
    "    print(arr[i],end=\" \")"
   ]
  },
  {
   "cell_type": "code",
   "execution_count": null,
   "id": "2426da9c",
   "metadata": {},
   "outputs": [],
   "source": [
    "n = int(input())\n",
    "for data in arr:\n",
    "    if data == n:\n",
    "        print(\"yes\")\n",
    "        break\n",
    "    else:\n",
    "        print(\"no\")"
   ]
  },
  {
   "cell_type": "code",
   "execution_count": 9,
   "id": "27c4c3b3",
   "metadata": {},
   "outputs": [
    {
     "name": "stdout",
     "output_type": "stream",
     "text": [
      "yes\n"
     ]
    }
   ],
   "source": [
    "if 6 in arr:\n",
    "    print(\"yes\")\n",
    "else:\n",
    "    print(\"no\")"
   ]
  },
  {
   "cell_type": "code",
   "execution_count": null,
   "id": "fe154c8c",
   "metadata": {},
   "outputs": [
    {
     "name": "stdout",
     "output_type": "stream",
     "text": [
      "5 9 3 10 4 5 India Hyderabad RCB IND VS PAK AIML\n"
     ]
    }
   ],
   "source": [
    "arr = [\"India\",\"Hyderabad\",\"RCB\",\"IND VS PAK\",\"AIML\",\"Wipro\"]\n",
    "for data in arr:\n",
    "    print(len(data),end=\" \")\n",
    "arr.pop()\n",
    "print(*arr)"
   ]
  },
  {
   "cell_type": "code",
   "execution_count": 17,
   "id": "841b765a",
   "metadata": {},
   "outputs": [
    {
     "name": "stdout",
     "output_type": "stream",
     "text": [
      "78 65 90 99\n",
      "<class 'str'>\n"
     ]
    }
   ],
   "source": [
    "n = int(input())\n",
    "arr = []\n",
    "data = input(\"Enter data: \")\n",
    "print(data)\n",
    "print(type(data))\n"
   ]
  },
  {
   "cell_type": "code",
   "execution_count": 19,
   "id": "2b56bf3c",
   "metadata": {},
   "outputs": [
    {
     "name": "stdout",
     "output_type": "stream",
     "text": [
      "Array: [1, 3, 5, 7, 9, 11, 13, 15, 17, 19, 21, 23, 25, 27, 29, 31, 33, 35, 37, 39, 41, 43, 45, 47, 49, 51, 53, 55, 57, 59, 61, 63, 65]\n"
     ]
    }
   ],
   "source": [
    "n = int(input())\n",
    "arr = []\n",
    "for i in range(1, n+1, 2):\n",
    "    arr.append(i)\n",
    "print(\"Array:\", arr)"
   ]
  },
  {
   "cell_type": "code",
   "execution_count": 25,
   "id": "31f12888",
   "metadata": {},
   "outputs": [
    {
     "name": "stdout",
     "output_type": "stream",
     "text": [
      "1 <class 'int'>\n",
      "55 <class 'int'>\n"
     ]
    }
   ],
   "source": [
    "arr = [ 1,55,True, 78.7, \"string\"]\n",
    "for data in arr:\n",
    "    if str(data).isnumeric():\n",
    "        print(data,type(data))    "
   ]
  },
  {
   "cell_type": "code",
   "execution_count": null,
   "id": "81f79ec7",
   "metadata": {},
   "outputs": [
    {
     "name": "stdout",
     "output_type": "stream",
     "text": [
      "[1, 4, 9, 16, 25, 36]\n"
     ]
    }
   ],
   "source": [
    "# print squares of first n natural numbers\n",
    "n= int(input())\n",
    "arr =[]\n",
    "for i in range(1,n+1):\n",
    "    arr.append(i*i)\n",
    "print(arr)"
   ]
  },
  {
   "cell_type": "code",
   "execution_count": null,
   "id": "8687dc75",
   "metadata": {},
   "outputs": [
    {
     "name": "stdout",
     "output_type": "stream",
     "text": [
      "[0, 1, 1]\n",
      "[0, 1, 1, 2]\n",
      "[0, 1, 1, 2, 3]\n",
      "3\n"
     ]
    }
   ],
   "source": [
    "# printing fibonacci series\n",
    "n = int(input())\n",
    "arr = [0,1]\n",
    "for i in range(2, n):\n",
    "    arr.append(arr[-1] + arr[-2])\n",
    "    print(arr)\n",
    "print(arr[-1])"
   ]
  },
  {
   "cell_type": "markdown",
   "id": "b590726c",
   "metadata": {},
   "source": [
    "There are 100 doors, all closed. In a nearby cage are 100 monkeys. The first monkey is let out and runs along the doors opening every one. \n",
    "\n",
    "The second monkey is then let out and runs along the doors closing the 2nd, 4th, 6th,…  - all the even-numbered doors. \n",
    "\n",
    "The third monkey is let out. He attends only to the 3rd, 6th, 9th,… doors (every third door, in other words), closing any that is open and opening any that is closed, and so on. \n",
    "\n",
    "After all 100 monkeys have done their work in this way, what state are the doors in after the last pass?"
   ]
  },
  {
   "cell_type": "markdown",
   "id": "6e2fbcaf",
   "metadata": {},
   "source": [
    "arr = [34, 123, 214, 41, 353, 98, 5, 66]\n",
    "compare two adj element and print the greater\n",
    "output: \n",
    "34 123\n",
    "123 214\n",
    "214 41\n",
    "41 353\n",
    "353 98\n",
    "98 5 \n",
    "5 66"
   ]
  },
  {
   "cell_type": "code",
   "execution_count": null,
   "id": "3c2eae30",
   "metadata": {},
   "outputs": [
    {
     "name": "stdout",
     "output_type": "stream",
     "text": [
      "34 123\n",
      "123 214\n",
      "214 41\n",
      "41 353\n",
      "353 98\n",
      "98 5\n",
      "5 66\n"
     ]
    }
   ],
   "source": [
    "# printing two consecutive elements in an array\n",
    "arr = [34, 123, 214, 41, 353, 98, 5, 66]\n",
    "for i in range(len(arr)-1):\n",
    "    print(arr[i],arr[i+1])"
   ]
  },
  {
   "cell_type": "code",
   "execution_count": null,
   "id": "41da4e04",
   "metadata": {},
   "outputs": [
    {
     "name": "stdout",
     "output_type": "stream",
     "text": [
      "34 123 : 123\n",
      "123 214 : 214\n",
      "214 41 : 214\n",
      "41 353 : 353\n",
      "353 98 : 353\n",
      "98 5 : 98\n",
      "5 66 : 66\n"
     ]
    }
   ],
   "source": [
    "# printing the maximum of two consecutive elements in an array\n",
    "arr = [34, 123, 214, 41, 353, 98, 5, 66]\n",
    "i = 0\n",
    "while i < len(arr)-1:\n",
    "    print(arr[i], arr[i+1], \":\",end=\" \")\n",
    "    print(arr[i] if arr[i] > arr[i+1] else arr[i+1])\n",
    "    i += 1"
   ]
  },
  {
   "cell_type": "markdown",
   "id": "d8179ea2",
   "metadata": {},
   "source": [
    "Print Max number in a array without using max or keywords"
   ]
  },
  {
   "cell_type": "code",
   "execution_count": null,
   "id": "b61c901e",
   "metadata": {},
   "outputs": [
    {
     "name": "stdout",
     "output_type": "stream",
     "text": [
      "Maximum element is: 353\n",
      "Minimum element is: 5\n"
     ]
    }
   ],
   "source": [
    "# maximum and minimum element in an array\n",
    "arr = [34, 123, 214, 41, 353, 98, 5, 66]\n",
    "i = 1\n",
    "res = arr[0]\n",
    "while i < len(arr):\n",
    "    if arr[i] > res:\n",
    "        res = arr[i]\n",
    "    i += 1\n",
    "print(\"Maximum element is:\", res)\n",
    "i = 0\n",
    "while i < len(arr):\n",
    "    if arr[i] < res:\n",
    "        res = arr[i]\n",
    "    i += 1\n",
    "print(\"Minimum element is:\", res)\n"
   ]
  },
  {
   "cell_type": "code",
   "execution_count": null,
   "id": "813a5fde",
   "metadata": {},
   "outputs": [
    {
     "name": "stdout",
     "output_type": "stream",
     "text": [
      "153\n",
      "Armstrong number\n"
     ]
    }
   ],
   "source": [
    "# Armstrong number check\n",
    "num = int(input(\"Enter a number: \"))\n",
    "check = num\n",
    "res = 0\n",
    "while num > 0:\n",
    "    digit = num % 10\n",
    "    res = res + digit**(len(str(check)))\n",
    "    num = num // 10\n",
    "print(res)\n",
    "print(\"Armstrong number\" if res == check else \"Not an Armstrong number\")"
   ]
  },
  {
   "cell_type": "code",
   "execution_count": null,
   "id": "a9ea3c18",
   "metadata": {},
   "outputs": [
    {
     "name": "stdout",
     "output_type": "stream",
     "text": [
      "24\n"
     ]
    }
   ],
   "source": [
    "# print final result of a series\n",
    "# print sum of series 2 + 22 + 222 + ... + n terms\n",
    "n = int(input())\n",
    "res = 0\n",
    "temp =0\n",
    "for i in range(n):\n",
    "    temp = (temp * 10) + 2\n",
    "    res+= temp\n",
    "    \n",
    "print(res)"
   ]
  },
  {
   "cell_type": "code",
   "execution_count": 13,
   "id": "8c147809",
   "metadata": {},
   "outputs": [
    {
     "name": "stdout",
     "output_type": "stream",
     "text": [
      "       * \n",
      "      * *\n",
      "     *   *\n",
      "    *     *\n",
      "   *       *\n",
      "  *         *\n",
      " *           *\n",
      "* * * * * * * * \n"
     ]
    }
   ],
   "source": [
    "'''Print pattern \n",
    "        * \n",
    "      *   * \n",
    "    *       * \n",
    "  *           * \n",
    "* * * * * * * * * '''\n",
    "n= 8\n",
    "\n",
    "a = 1\n",
    "for i in range(1,n+1):\n",
    "  if i == 1 or i == n:\n",
    "    print(\" \"*(n-i) + \"* \" * i)\n",
    "  else:\n",
    "    print(\" \"*(n-i) + \"*\" + \" \"*a + \"*\")\n",
    "    a += 2"
   ]
  },
  {
   "cell_type": "code",
   "execution_count": 37,
   "id": "4f922690",
   "metadata": {},
   "outputs": [
    {
     "name": "stdout",
     "output_type": "stream",
     "text": [
      "*       *\n",
      "**     **\n",
      "***   ***\n",
      "**** ****\n",
      "*********\n"
     ]
    }
   ],
   "source": [
    "'''print pattern\n",
    "* * * * * * * * *\n",
    "  *           * \n",
    "    *       * \n",
    "      *   * \n",
    "        * '''\n",
    "n = 5\n",
    "for i in range(n, 0, -1):\n",
    "    if i == 1:\n",
    "        print(\"*\"*(n*2 - 1))\n",
    "    else:\n",
    "        print(\"*\"*(n-i)+\"*\"+\" \"*(2*(i-2)+1)+\"*\"+\"*\"*(n-i))\n"
   ]
  },
  {
   "cell_type": "code",
   "execution_count": null,
   "id": "2286a35c",
   "metadata": {},
   "outputs": [
    {
     "name": "stdout",
     "output_type": "stream",
     "text": [
      "       * \n",
      "      * *\n",
      "     *   *\n",
      "    *     *\n",
      "   *       *\n",
      "  *         *\n",
      " *           *\n",
      "*             *\n",
      " *           *\n",
      "  *         *\n",
      "   *       *\n",
      "    *     *\n",
      "     *   *\n",
      "      * *\n",
      "       * \n"
     ]
    }
   ],
   "source": [
    "'''Print pattern\n",
    "        * \n",
    "      *   * \n",
    "    *       * \n",
    "  *           * \n",
    "*               * \n",
    "  *           * \n",
    "    *       * \n",
    "      *   * \n",
    "        * '''\n",
    "n = 8\n",
    "a = 1\n",
    "for i in range(1,n+1):\n",
    "  if i == 1 :\n",
    "    print(\" \"*(n-i) + \"* \" * i)\n",
    "  else:\n",
    "    print(\" \"*(n-i) + \"*\" + \" \"*a + \"*\")\n",
    "    a += 2\n",
    "  \n",
    "for i in range(n-1, 0, -1):\n",
    "    if i == 1:\n",
    "        print(\" \"*(n-i) + \"* \" * i)\n",
    "    else:\n",
    "        print(\" \"*(n-i)+\"*\"+\" \"*(2*(i-2)+1)+\"*\")\n",
    "\n",
    "\n"
   ]
  },
  {
   "cell_type": "code",
   "execution_count": 32,
   "id": "694d82d2",
   "metadata": {},
   "outputs": [
    {
     "name": "stdout",
     "output_type": "stream",
     "text": [
      "*       *\n",
      "**     **\n",
      "***   ***\n",
      "**** ****\n",
      "*********\n"
     ]
    }
   ],
   "source": [
    "n = 5\n",
    "for i in range(n, 0, -1):\n",
    "    if i == 1:\n",
    "        print(\"*\" *((n*2)-1))\n",
    "    else:\n",
    "        print(\"*\"*(n-i)+\"*\"+\" \"*(2*(i-2)+1)+\"*\"*(n-i+1))"
   ]
  },
  {
   "cell_type": "code",
   "execution_count": null,
   "id": "174dab16",
   "metadata": {},
   "outputs": [],
   "source": []
  }
 ],
 "metadata": {
  "kernelspec": {
   "display_name": "Python 3",
   "language": "python",
   "name": "python3"
  },
  "language_info": {
   "codemirror_mode": {
    "name": "ipython",
    "version": 3
   },
   "file_extension": ".py",
   "mimetype": "text/x-python",
   "name": "python",
   "nbconvert_exporter": "python",
   "pygments_lexer": "ipython3",
   "version": "3.7.0"
  }
 },
 "nbformat": 4,
 "nbformat_minor": 5
}
