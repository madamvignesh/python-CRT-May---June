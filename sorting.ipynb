{
 "cells": [
  {
   "cell_type": "markdown",
   "id": "e12e9eb1",
   "metadata": {},
   "source": [
    "\n",
    "\n",
    "# what is sorting\n",
    "\n",
    "Sorting is the process of arranging data in a particular order, typically in ascending or descending order. It is used to organize lists, arrays, or other collections of data, making it easier to search, analyze, and process the information efficiently. Common sorting algorithms include Bubble Sort, Merge Sort, Quick Sort, and Insertion Sort."
   ]
  },
  {
   "cell_type": "code",
   "execution_count": 2,
   "id": "342d4209",
   "metadata": {},
   "outputs": [
    {
     "data": {
      "text/plain": [
       "[2, 3, 4, 7, 8]"
      ]
     },
     "execution_count": 2,
     "metadata": {},
     "output_type": "execute_result"
    }
   ],
   "source": [
    "# bubble sort\n",
    "\n",
    "def bubble_sorting(arr):\n",
    "    for i in range(len(arr)-1):\n",
    "        swapped = True\n",
    "        for j in range(len(arr)-1-i):\n",
    "            if arr[j] > arr[j+1]:\n",
    "                arr[j],arr[j+1] = arr[j+1],arr[j]\n",
    "                swapped= False\n",
    "        if swapped:\n",
    "            return arr \n",
    "    return arr\n",
    "    \n",
    "bubble_sorting([4,7,2,8,3])"
   ]
  },
  {
   "cell_type": "code",
   "execution_count": null,
   "id": "fe57a880",
   "metadata": {},
   "outputs": [],
   "source": [
    "# Insertation Sorting \n",
    "def insertation_sorting(arr):\n",
    "    n = len(arr)\n",
    "    for i in range(n):\n",
    "        index = i\n",
    "        for j in range(i+1, n):\n",
    "            if arr[j] < arr[index]:\n",
    "                index = j\n",
    "        arr[i], arr[index] = arr[index], arr[i]\n",
    "    return arr"
   ]
  },
  {
   "cell_type": "code",
   "execution_count": null,
   "id": "5bd11000",
   "metadata": {},
   "outputs": [
    {
     "name": "stdout",
     "output_type": "stream",
     "text": [
      "None\n",
      "[2, 3, 4, 7, 8]\n"
     ]
    }
   ],
   "source": [
    "# Quick Sorting\n",
    "def partition(arr, low, high):\n",
    "    pivot = arr[high]\n",
    "    i = low - 1\n",
    "    for j in range(low, high):\n",
    "        if arr[j] < pivot:\n",
    "            i += 1\n",
    "            arr[i], arr[j] = arr[j], arr[i]\n",
    "    arr[i+1], arr[high] = arr[high], arr[i+1]\n",
    "    return i + 1\n",
    "def quicksort (arr,low,high):\n",
    "    if low < high:\n",
    "        pi = partition(arr, low, high)\n",
    "        quicksort(arr, low, pi-1)\n",
    "        quicksort(arr, pi+1, high)\n",
    "\n",
    "arr = [4,7,2,8,3]\n",
    "quicksort(arr, 0, 4)\n",
    "print(arr)\n"
   ]
  },
  {
   "cell_type": "code",
   "execution_count": 10,
   "id": "ded994c1",
   "metadata": {},
   "outputs": [
    {
     "name": "stdout",
     "output_type": "stream",
     "text": [
      "[2, 3, 4, 7, 8]\n"
     ]
    }
   ],
   "source": [
    "# Merge Sorting\n",
    "def merge_arr(arr, low, mid, high):\n",
    "    i = low\n",
    "    j = mid + 1\n",
    "    k = low\n",
    "    temp = [0] * (high + 1)\n",
    "    while i <= mid and j <= high:\n",
    "        if arr[i] < arr[j]:\n",
    "            temp[k] = arr[i]\n",
    "            i += 1\n",
    "        else:\n",
    "            temp[k] = arr[j]\n",
    "            j += 1\n",
    "        k += 1  # increment k here\n",
    "    while i <= mid:\n",
    "        temp[k] = arr[i]\n",
    "        i += 1\n",
    "        k += 1  # increment k here\n",
    "    while j <= high:\n",
    "        temp[k] = arr[j]\n",
    "        j += 1\n",
    "        k += 1  # increment k here\n",
    "\n",
    "    for i in range(low, high + 1):\n",
    "        arr[i] = temp[i]\n",
    "\n",
    "def merge_sort(arr, low, high):\n",
    "    if low < high:\n",
    "        mid = (low + high) // 2\n",
    "        merge_sort(arr, low, mid)\n",
    "        merge_sort(arr, mid + 1, high)\n",
    "        merge_arr(arr, low, mid, high)\n",
    "\n",
    "arr = [4, 7, 2, 8, 3]\n",
    "n = len(arr)\n",
    "merge_sort(arr, 0, n - 1)\n",
    "print(arr)"
   ]
  },
  {
   "cell_type": "code",
   "execution_count": 11,
   "id": "87d5ed5b",
   "metadata": {},
   "outputs": [
    {
     "name": "stdout",
     "output_type": "stream",
     "text": [
      "[1, 2, 3]\n",
      "[1, 2]\n",
      "[1, 3]\n",
      "[1]\n",
      "[2, 3]\n",
      "[2]\n",
      "[3]\n",
      "[]\n"
     ]
    }
   ],
   "source": [
    "# subsequence of numbers using recursion\n",
    "def subsequence(arr, index=0, current=[]):\n",
    "    if index == len(arr):\n",
    "        print(current)\n",
    "        return\n",
    "    # Include the current element\n",
    "    subsequence(arr, index + 1, current + [arr[index]])\n",
    "    # Exclude the current element\n",
    "    subsequence(arr, index + 1, current)\n",
    "arr = [1, 2, 3]\n",
    "subsequence(arr)\n"
   ]
  },
  {
   "cell_type": "markdown",
   "id": "b81f0aa0",
   "metadata": {},
   "source": [
    "## Advanced Coding Question: Meal Planning with Dietary Restrictionsictions\n",
    "\n",
    "You are planning your weekly meals and have a list of 5 different dishes: `[1, 2, 3, 4, 5]`, where each number represents a unique dish. However, you have the following dietary restrictions:\n",
    "- You cannot choose both dish 2 and dish 4 together.- You cannot choose both dish 2 and dish 4 together.\n",
    "- You must include at least 2 dishes in your meal plan.\n",
    "\n",
    "Write a function that prints all possible subsequences (combinations) of the given list of dishes that satisfy the above restrictions.that prints all possible subsequences (combinations) of the given list of dishes that satisfy the above restrictions.\n",
    "\n",
    "**Sample Input:****\n"
   ]
  },
  {
   "cell_type": "markdown",
   "id": "5a998235",
   "metadata": {},
   "source": []
  }
 ],
 "metadata": {
  "kernelspec": {
   "display_name": "Python 3",
   "language": "python",
   "name": "python3"
  },
  "language_info": {
   "codemirror_mode": {
    "name": "ipython",
    "version": 3
   },
   "file_extension": ".py",
   "mimetype": "text/x-python",
   "name": "python",
   "nbconvert_exporter": "python",
   "pygments_lexer": "ipython3",
   "version": "3.7.0"
  }
 },
 "nbformat": 4,
 "nbformat_minor": 5
}
