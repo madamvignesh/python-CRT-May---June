{
 "cells": [
  {
   "cell_type": "markdown",
   "id": "929861a0",
   "metadata": {},
   "source": [
    "## Strings and Their Methods\n",
    "\n",
    "Strings are sequences of characters used to store and represent text in Python. They are immutable, meaning their contents cannot be changed after creation. Strings are defined using single quotes (`'...'`), double quotes (`\"...\"`), or triple quotes for multi-line strings (`'''...'''` or `\"\"\"...\"\"\"`).\n",
    "\n",
    "### Common String Methods\n",
    "\n",
    "- `str.upper()`: Converts all characters to uppercase.\n",
    "- `str.lower()`: Converts all characters to lowercase.\n",
    "- `str.strip()`: Removes leading and trailing whitespace.\n",
    "- `str.replace(old, new)`: Replaces occurrences of a substring with another substring.\n",
    "- `str.split(separator)`: Splits the string into a list using the specified separator.\n",
    "- `str.join(iterable)`: Joins elements of an iterable into a single string, separated by the string.\n",
    "- `str.find(sub)`: Returns the lowest index where the substring is found, or `-1` if not found.\n",
    "- `str.startswith(prefix)`: Checks if the string starts with the specified prefix.\n",
    "- `str.endswith(suffix)`: Checks if the string ends with the specified suffix.\n",
    "\n",
    "### Example\n",
    "\n",
    "```python\n",
    "text = \"  Hello, World!  \"\n",
    "print(text.strip().upper().replace(\"WORLD\", \"Python\"))\n",
    "# Output: HELLO, PYTHON!\n",
    "```\n",
    "\n",
    "String methods are powerful tools for manipulating and analyzing text data in Python."
   ]
  },
  {
   "cell_type": "code",
   "execution_count": 1,
   "id": "a9d38ca6",
   "metadata": {},
   "outputs": [
    {
     "name": "stdout",
     "output_type": "stream",
     "text": [
      "Upper:   HELLO, WORLD!  \n",
      "Lower:   hello, world!  \n",
      "Strip: Hello, World!\n",
      "Replace:   Hello, Python!  \n",
      "Split: ['  Hello', ' World!  ']\n",
      "Join: Hello Python\n",
      "Find 'World': 9\n",
      "Startswith '  He': True\n",
      "Endswith '!  ': True\n"
     ]
    }
   ],
   "source": [
    "# Examples for each string method\n",
    "\n",
    "sample = \"  Hello, World!  \"\n",
    "\n",
    "# str.upper()\n",
    "print(\"Upper:\", sample.upper())\n",
    "\n",
    "# str.lower()\n",
    "print(\"Lower:\", sample.lower())\n",
    "\n",
    "# str.strip()\n",
    "print(\"Strip:\", sample.strip())\n",
    "\n",
    "# str.replace(old, new)\n",
    "print(\"Replace:\", sample.replace(\"World\", \"Python\"))\n",
    "\n",
    "# str.split(separator)\n",
    "print(\"Split:\", sample.split(\",\"))\n",
    "\n",
    "# str.join(iterable)\n",
    "words = [\"Hello\", \"Python\"]\n",
    "print(\"Join:\", \" \".join(words))\n",
    "\n",
    "# str.find(sub)\n",
    "print(\"Find 'World':\", sample.find(\"World\"))\n",
    "\n",
    "# str.startswith(prefix)\n",
    "print(\"Startswith '  He':\", sample.startswith(\"  He\"))\n",
    "\n",
    "# str.endswith(suffix)\n",
    "print(\"Endswith '!  ':\", sample.endswith(\"!  \"))"
   ]
  },
  {
   "cell_type": "markdown",
   "id": "80e22cd4",
   "metadata": {},
   "source": [
    "### Basic Coding Questions on the String\n",
    "\n",
    "Given string:  \n",
    "`text = \"India is my country and it have huge number of people live in\"`\n",
    "\n",
    "1. Convert the string to all uppercase letters.\n",
    "2. Convert the string to all lowercase letters.\n",
    "3. Count the number of times the word \"in\" appears in the string.\n",
    "4. Find the index of the word \"country\" in the string.\n",
    "5. Replace the word \"India\" with \"Bharat\" in the string.\n",
    "6. Split the string into a list of words.\n",
    "7. Check if the string starts with \"India\".\n",
    "8. Check if the string ends with \"in\".\n",
    "9. Count the total number of words in the string.\n",
    "10. Join the list of words back into a single string separated by hyphens (`-`)."
   ]
  },
  {
   "cell_type": "code",
   "execution_count": null,
   "id": "12bea215",
   "metadata": {},
   "outputs": [
    {
     "name": "stdout",
     "output_type": "stream",
     "text": [
      "13\n",
      "Joined text: India-is-my-country-and-it-have-huge-number-of-people-live-in\n"
     ]
    }
   ],
   "source": []
  },
  {
   "cell_type": "markdown",
   "id": "e3643895",
   "metadata": {},
   "source": [
    "text = 'India is my country and it have huge number of people live in'\n",
    "\n",
    "slip_text = text.split()\n",
    "print(len(slip_text))\n",
    "print(\"Joined text:\", \"-\".join(slip_text))\n",
    "### Mid-Level Coding Questions on Strings\n",
    "\n",
    "1. Write a function to check if a given string is a palindrome (ignoring spaces and case).\n",
    "2. Given a string, write code to count the number of vowels and consonants in it.\n",
    "3. Write a program to find the longest word in a sentence.\n",
    "4. Given two strings, write a function to determine if one is an anagram of the other.\n",
    "5. Write code to remove all duplicate characters from a string while preserving the order.\n",
    "6. Given a string, write a function to return the first non-repeating character.\n",
    "7. Write a program to reverse the order of words in a sentence.\n",
    "8. Given a string, write code to capitalize the first letter of each word.\n",
    "9. Write a function to check if a string contains only digits.\n",
    "10. Given a string, write code to count the frequency of each character and display the result as a dictionary."
   ]
  },
  {
   "cell_type": "code",
   "execution_count": 2,
   "id": "1c08b1b8",
   "metadata": {},
   "outputs": [
    {
     "name": "stdout",
     "output_type": "stream",
     "text": [
      "True\n"
     ]
    }
   ],
   "source": [
    "# 1\n",
    "text =  \"Madam\"\n",
    "text = text.lower()\n",
    "res = text.replace(\" \",\"\")\n",
    "res = res[::-1]\n",
    "print(text == res)"
   ]
  },
  {
   "cell_type": "code",
   "execution_count": 4,
   "id": "612c5b86",
   "metadata": {},
   "outputs": [
    {
     "name": "stdout",
     "output_type": "stream",
     "text": [
      "10 22\n"
     ]
    }
   ],
   "source": [
    "text = \"My is Vignesh. I am a CRT Python Trainer\"\n",
    "text = text.lower().replace(\" \",\"\")\n",
    "voweks = \"aeuio\"\n",
    "vowels_count = 0\n",
    "con_count = 0\n",
    "for ch in text:\n",
    "    if ch in voweks:\n",
    "        vowels_count+=1\n",
    "    else:\n",
    "        con_count+=1\n",
    "print(vowels_count,con_count)"
   ]
  },
  {
   "cell_type": "code",
   "execution_count": 7,
   "id": "0172323b",
   "metadata": {},
   "outputs": [
    {
     "name": "stdout",
     "output_type": "stream",
     "text": [
      "country\n"
     ]
    }
   ],
   "source": [
    "text = \"India is a country in Asia\"\n",
    "arr = text.split()\n",
    "res = \"\"\n",
    "for i in arr:\n",
    "    if len(i)> len(res):\n",
    "        res = i\n",
    "print(res)"
   ]
  },
  {
   "cell_type": "code",
   "execution_count": 8,
   "id": "a08708b9",
   "metadata": {},
   "outputs": [
    {
     "name": "stdout",
     "output_type": "stream",
     "text": [
      "Anagrams\n"
     ]
    }
   ],
   "source": [
    "text1 = \"RACE\"\n",
    "text2 = \"CARE\"\n",
    "if sorted(text1) == sorted(text2):\n",
    "    print(\"Anagrams\")\n",
    "else:\n",
    "    print(\"Not Anagrams\")\n"
   ]
  },
  {
   "cell_type": "code",
   "execution_count": null,
   "id": "e41e3ab8",
   "metadata": {},
   "outputs": [],
   "source": [
    "flag = True\n",
    "for ch in text1:\n",
    "    if ch not in text2:\n",
    "        flag = False\n",
    "        break\n",
    "if flag:\n",
    "    print(\"Anagrams\")\n",
    "else:\n",
    "    print(\"Not Anagrams\")"
   ]
  },
  {
   "cell_type": "code",
   "execution_count": 12,
   "id": "9f3f6c24",
   "metadata": {},
   "outputs": [
    {
     "name": "stdout",
     "output_type": "stream",
     "text": [
      "IndiascoutryA\n"
     ]
    }
   ],
   "source": [
    "text = \"India is a country in Asia\"\n",
    "text = text.replace(\" \",\"\")\n",
    "res = \"\"\n",
    "for ch in text:\n",
    "    if ch not in res:\n",
    "        res += ch\n",
    "print(res)"
   ]
  },
  {
   "cell_type": "code",
   "execution_count": 13,
   "id": "92c924e0",
   "metadata": {},
   "outputs": [
    {
     "name": "stdout",
     "output_type": "stream",
     "text": [
      "['aidnI', 'si', 'a', 'yrtnuoc', 'ni', 'aisA']\n"
     ]
    }
   ],
   "source": [
    "text = \"India is a country in Asia\"\n",
    "splited_text = text.split()\n",
    "res = []\n",
    "for word in splited_text:\n",
    "    res.append(word[::-1])\n",
    "print(res)"
   ]
  },
  {
   "cell_type": "markdown",
   "id": "327cf79d",
   "metadata": {},
   "source": [
    "#### Change Each Vowel to the Next Vowel\n",
    "\n",
    "Write a function that takes a string and replaces every vowel with the next vowel in the sequence:  \n",
    "a → e, e → i, i → o, o → u, u → a  \n",
    "The function should preserve the case of the original vowels.\n",
    "\n",
    "**Example:**  \n",
    "Input: `\"India is a country in Asia\"`  \n",
    "Output: `\"Ondoe os e ceuntry on Esoe\"`\n"
   ]
  },
  {
   "cell_type": "code",
   "execution_count": 22,
   "id": "fae83db2",
   "metadata": {},
   "outputs": [
    {
     "name": "stdout",
     "output_type": "stream",
     "text": [
      "ondoe os e cuantry on esoe\n"
     ]
    }
   ],
   "source": [
    "text = \"India is a country in Asia\"\n",
    "vowels = \"aeioua\"\n",
    "text = text.lower()\n",
    "res =\"\"\n",
    "for ch in text:\n",
    "    if ch in vowels:\n",
    "        ind = vowels.find(ch)\n",
    "        res+= vowels[ind + 1]\n",
    "    else:\n",
    "        res += ch\n",
    "print(res)\n"
   ]
  },
  {
   "cell_type": "code",
   "execution_count": 20,
   "id": "88404b80",
   "metadata": {},
   "outputs": [
    {
     "name": "stdout",
     "output_type": "stream",
     "text": [
      "ndscntryns\n"
     ]
    }
   ],
   "source": [
    "text = \"India is a country in Asia\"\n",
    "vowels = \"aeiuo\"\n",
    "text = text.lower().replace(\" \",'')\n",
    "res =\"\"\n",
    "for ch in text:\n",
    "    if ch not in vowels:\n",
    "        res += ch \n",
    "print(res)\n"
   ]
  },
  {
   "cell_type": "markdown",
   "id": "7118564a",
   "metadata": {},
   "source": [
    "### Additional String Methods\n",
    "\n",
    "- `str.isdigit()`: Returns `True` if all characters in the string are digits (0-9).\n",
    "- `str.isnumeric()`: Returns `True` if all characters in the string are numeric (includes digits, superscripts, fractions, etc.).\n",
    "- `str.isalpha()`: Returns `True` if all characters in the string are alphabetic (a-z, A-Z).\n",
    "- `str.isalnum()`: Returns `True` if all characters in the string are alphanumeric (letters and numbers, no spaces or symbols).\n",
    "- `str.isspace()`: Returns `True` if all characters in the string are whitespace.\n",
    "\n",
    "- `str.istitle()`: Returns `True` if the string is in title case (each word starts with an uppercase letter)."
   ]
  },
  {
   "cell_type": "code",
   "execution_count": 16,
   "id": "1f4fefa3",
   "metadata": {},
   "outputs": [
    {
     "name": "stdout",
     "output_type": "stream",
     "text": [
      "65\n",
      "97\n",
      "48\n",
      "64\n"
     ]
    }
   ],
   "source": [
    "print(ord('A'))  # ASCII value of 'A'\n",
    "print(ord('a'))  # ASCII value of 'a'\n",
    "print(ord('0'))  # ASCII value of '0'\n",
    "print(ord('@'))"
   ]
  },
  {
   "cell_type": "code",
   "execution_count": 18,
   "id": "13749386",
   "metadata": {},
   "outputs": [
    {
     "name": "stdout",
     "output_type": "stream",
     "text": [
      "a 10\n",
      "b 20\n",
      "a 30\n",
      "b 40\n",
      "a 60\n",
      "b 50\n",
      "1 3 7 9\n"
     ]
    }
   ],
   "source": [
    "def print_num(a=10,b=20):\n",
    "    print('a',a)\n",
    "    print('b',b)\n",
    "print_num()\n",
    "print_num(30,40)\n",
    "print_num(b = 50, a = 60) \n",
    "\n",
    "def print_num(a,b,c,d):\n",
    "    print(a,b,c,d)\n",
    "arr = [1,3,7,9]\n",
    "print_num(*arr)\n",
    " "
   ]
  },
  {
   "cell_type": "markdown",
   "id": "ddd398c4",
   "metadata": {},
   "source": []
  },
  {
   "cell_type": "code",
   "execution_count": null,
   "id": "9d445702",
   "metadata": {},
   "outputs": [],
   "source": []
  }
 ],
 "metadata": {
  "kernelspec": {
   "display_name": "Python 3",
   "language": "python",
   "name": "python3"
  },
  "language_info": {
   "codemirror_mode": {
    "name": "ipython",
    "version": 3
   },
   "file_extension": ".py",
   "mimetype": "text/x-python",
   "name": "python",
   "nbconvert_exporter": "python",
   "pygments_lexer": "ipython3",
   "version": "3.7.0"
  }
 },
 "nbformat": 4,
 "nbformat_minor": 5
}
