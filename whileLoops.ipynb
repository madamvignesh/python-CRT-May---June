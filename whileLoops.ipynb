{
 "cells": [
  {
   "cell_type": "code",
   "execution_count": null,
   "id": "6b5a89bd",
   "metadata": {},
   "outputs": [
    {
     "name": "stdout",
     "output_type": "stream",
     "text": [
      "0\n",
      "1\n",
      "2\n",
      "3\n",
      "4\n",
      "5\n",
      "6\n",
      "7\n",
      "8\n",
      "9\n",
      "End of loop\n"
     ]
    }
   ],
   "source": [
    "# print 0 to n\n",
    "i = 0\n",
    "num = int(input())\n",
    "while i < num:\n",
    "    print(i)\n",
    "    i += 1\n",
    "print(\"End of loop\")"
   ]
  },
  {
   "cell_type": "code",
   "execution_count": null,
   "id": "bd95015d",
   "metadata": {},
   "outputs": [
    {
     "name": "stdout",
     "output_type": "stream",
     "text": [
      "5\n",
      "4\n",
      "3\n",
      "2\n",
      "1\n",
      "End of loop\n"
     ]
    }
   ],
   "source": [
    "#  print reverse order  \n",
    "num = int(input())\n",
    "i = num\n",
    "while i > 0:\n",
    "    print(i)\n",
    "    i -= 1\n",
    "print(\"End of loop\")"
   ]
  },
  {
   "cell_type": "code",
   "execution_count": null,
   "id": "6575e348",
   "metadata": {},
   "outputs": [
    {
     "name": "stdout",
     "output_type": "stream",
     "text": [
      "8\n",
      "16\n",
      "24\n",
      "32\n",
      "40\n",
      "48\n",
      "56\n",
      "64\n",
      "72\n",
      "80\n",
      "End of loop\n"
     ]
    }
   ],
   "source": [
    "# print n table without using * \n",
    "n = int(input())\n",
    "i = 1\n",
    "x = n\n",
    "while i <= 10:\n",
    "    print(x)\n",
    "    x+= n \n",
    "    i += 1\n",
    "print(\"End of loop\")"
   ]
  },
  {
   "cell_type": "code",
   "execution_count": null,
   "id": "f1c9d8fd",
   "metadata": {},
   "outputs": [
    {
     "name": "stdout",
     "output_type": "stream",
     "text": [
      "16 24 32 40 48 56 64 \n",
      "64\n"
     ]
    }
   ],
   "source": [
    "# print square of a n number without * and **\n",
    "n = int(input())\n",
    "i = 1\n",
    "x = n\n",
    "while i < n:\n",
    "    x+= n \n",
    "    print(x,end=\" \")\n",
    "    i += 1\n",
    "print(\"\")\n",
    "print(x)"
   ]
  },
  {
   "cell_type": "code",
   "execution_count": null,
   "id": "b21c2a23",
   "metadata": {},
   "outputs": [
    {
     "name": "stdout",
     "output_type": "stream",
     "text": [
      "Prime\n"
     ]
    }
   ],
   "source": [
    "# check prime number or not\n",
    "n = int(input())\n",
    "i = 1\n",
    "count = 0\n",
    "while i <= n:\n",
    "    if n%i == 0:\n",
    "        count += 1\n",
    "    i += 1\n",
    "print(\"Prime\" if count <= 2 else \"Not Prime\")"
   ]
  },
  {
   "cell_type": "code",
   "execution_count": null,
   "id": "46d75813",
   "metadata": {},
   "outputs": [
    {
     "name": "stdout",
     "output_type": "stream",
     "text": [
      "55\n"
     ]
    }
   ],
   "source": [
    "# print n sum  \n",
    "n = int(input())\n",
    "i = 1\n",
    "res = 0\n",
    "while i <= n:\n",
    "    res += i\n",
    "    i += 1\n",
    "print(res)"
   ]
  },
  {
   "cell_type": "code",
   "execution_count": 15,
   "id": "7a236379",
   "metadata": {},
   "outputs": [
    {
     "name": "stdout",
     "output_type": "stream",
     "text": [
      "*****\n",
      "*****\n",
      "*****\n",
      "*****\n",
      "*****\n"
     ]
    }
   ],
   "source": [
    "# print pattern n x n \n",
    "n = int(input())\n",
    "i = 1\n",
    "while i<=n:\n",
    "    print(\"*\"*n) \n",
    "    i += 1   "
   ]
  },
  {
   "cell_type": "code",
   "execution_count": null,
   "id": "736b491c",
   "metadata": {},
   "outputs": [
    {
     "name": "stdout",
     "output_type": "stream",
     "text": [
      "***\n",
      "***\n",
      "***\n"
     ]
    }
   ],
   "source": [
    "#  print pattern n x n without using *\n",
    "n = int(input())\n",
    "i = 1\n",
    "while i <= n:\n",
    "    j = 1\n",
    "    while j <= n:\n",
    "        print(\"*\", end=\"\")\n",
    "        j += 1\n",
    "    i += 1\n",
    "    print(\"\")\n"
   ]
  },
  {
   "cell_type": "code",
   "execution_count": null,
   "id": "7f03fc00",
   "metadata": {},
   "outputs": [
    {
     "name": "stdout",
     "output_type": "stream",
     "text": [
      "    * \n",
      "   * * \n",
      "  * * * \n",
      " * * * * \n",
      "* * * * * \n",
      " * * * * \n",
      "  * * * \n",
      "   * * \n",
      "    * \n"
     ]
    }
   ],
   "source": [
    "# print pattern equivalent triangle of n with spaces\n",
    "n = int(input())\n",
    "i = 1\n",
    "while i <= n:\n",
    "    print(\" \"*(n-i)+\"* \"*i)\n",
    "    i += 1\n",
    "i = 2\n",
    "while i <= n:\n",
    "    print(\" \"*(i-1)+\"* \"*(n-i+1))\n",
    "    i += 1"
   ]
  },
  {
   "cell_type": "code",
   "execution_count": null,
   "id": "3d691234",
   "metadata": {},
   "outputs": [
    {
     "name": "stdout",
     "output_type": "stream",
     "text": [
      "1 2 3 4 6 7 8 9 "
     ]
    }
   ],
   "source": [
    "# print 1 to n without 5 multiples\n",
    "n = int(input())\n",
    "i = 1\n",
    "while i <= n:\n",
    "    if i%5 == 0:\n",
    "        i += 1\n",
    "        continue\n",
    "    print(i,end=\" \")\n",
    "    i += 1"
   ]
  },
  {
   "cell_type": "code",
   "execution_count": null,
   "id": "448586a7",
   "metadata": {},
   "outputs": [
    {
     "name": "stdout",
     "output_type": "stream",
     "text": [
      "inner loop\n"
     ]
    }
   ],
   "source": [
    "# understand break and continue\n",
    "# break will exit the loop immediately\n",
    "# continue will skip the current iteration and continue with the next one\n",
    "n = int(input())\n",
    "i = 1\n",
    "while i <= n: # loop from 1 to n\n",
    "    if i == 5:\n",
    "        print(\"Breaking at\", i)\n",
    "        break  # exit the loop when i is 5\n",
    "    print(\"inner loop\")\n",
    "    i += 1\n",
    "\n",
    "print(\"End of loop\")\n",
    "\n",
    "# continue example\n",
    "n = int(input())\n",
    "i = 1\n",
    "while i <= n:\n",
    "    if i%5 == 0:\n",
    "        print(\"Skipping\", i)\n",
    "        i += 1\n",
    "        continue\n",
    "    print(i, end=\" \")\n",
    "    i += 1"
   ]
  },
  {
   "cell_type": "code",
   "execution_count": null,
   "id": "cd563d8a",
   "metadata": {},
   "outputs": [
    {
     "name": "stdout",
     "output_type": "stream",
     "text": [
      "2:2\n",
      "3:2\n",
      "4:3\n",
      "5:2\n",
      "6:4\n",
      "7:2\n",
      "8:4\n",
      "9:3\n",
      "10:4\n",
      "11:2\n",
      "12:6\n",
      "13:2\n",
      "14:4\n",
      "15:4\n",
      "16:5\n",
      "17:2\n",
      "18:6\n",
      "19:2\n",
      "20:6\n"
     ]
    }
   ],
   "source": [
    "# print each number and its divisors count from 2 to n\n",
    "num = int(input())\n",
    "n = 2\n",
    "while n <= num:\n",
    "    i = 1\n",
    "    count = 0\n",
    "    while i <= n:\n",
    "        if n%i == 0:\n",
    "            count += 1\n",
    "        i += 1\n",
    "    print(f\"{n}:{count}\")\n",
    "    n += 1"
   ]
  },
  {
   "cell_type": "code",
   "execution_count": null,
   "id": "9e232e19",
   "metadata": {},
   "outputs": [
    {
     "name": "stdout",
     "output_type": "stream",
     "text": [
      "*****\n",
      "*   *\n",
      "*   *\n",
      "*   *\n",
      "*****\n"
     ]
    }
   ],
   "source": [
    "# print outline of square pattern of n without using * and **\n",
    "n = int(input())\n",
    "i = 1\n",
    "while i <= n:\n",
    "    j = 1\n",
    "    while j <= n:\n",
    "        if i == 1 or i == n:\n",
    "            print(\"*\", end=\"\")\n",
    "        else:\n",
    "            if j == 1 or j == n:\n",
    "                print(\"*\", end=\"\")\n",
    "            else:\n",
    "                print(\" \", end=\"\")\n",
    "        j += 1\n",
    "    print()\n",
    "    i += 1"
   ]
  },
  {
   "cell_type": "code",
   "execution_count": null,
   "id": "190c9c08",
   "metadata": {},
   "outputs": [
    {
     "name": "stdout",
     "output_type": "stream",
     "text": [
      "*\n",
      "**\n",
      "* *\n",
      "*  *\n",
      "*   *\n",
      "*    *\n",
      "*     *\n",
      "********\n"
     ]
    }
   ],
   "source": [
    "# print right angle triangle pattern of n without using * \n",
    "n = int(input())\n",
    "i = 1\n",
    "while i <= n:\n",
    "    if i == 1 or i == n:\n",
    "        print(\"*\"*i)\n",
    "    else:\n",
    "        print(\"*\"+\" \"*(i-2)+\"*\")\n",
    "    i += 1"
   ]
  },
  {
   "cell_type": "code",
   "execution_count": null,
   "id": "93f91ea3",
   "metadata": {},
   "outputs": [
    {
     "name": "stdout",
     "output_type": "stream",
     "text": [
      "*\n",
      "**\n",
      "* *\n",
      "*  *\n",
      "*****\n"
     ]
    }
   ],
   "source": [
    "# print right angle triangle pattern of n with 2 while loop without using * \n",
    "n = int(input())\n",
    "i = 1\n",
    "while i <= n:\n",
    "    j = 1\n",
    "    while j <= i:\n",
    "        if i == 1 or i == n:\n",
    "            print(\"*\", end=\"\")\n",
    "        else:\n",
    "            if j == 1 or j == i:\n",
    "                print(\"*\", end=\"\")\n",
    "            else:\n",
    "                print(\" \", end=\"\")\n",
    "        j += 1\n",
    "    print()\n",
    "    i += 1"
   ]
  },
  {
   "cell_type": "code",
   "execution_count": null,
   "id": "e289540e",
   "metadata": {},
   "outputs": [
    {
     "name": "stdout",
     "output_type": "stream",
     "text": [
      "*\n",
      "**\n",
      "* *\n",
      "*  *\n",
      "*****\n"
     ]
    }
   ],
   "source": [
    "# print right angle triangle pattern of n using 2 while without using * \n",
    "n = int(input())\n",
    "i = 1\n",
    "while i <= n:\n",
    "    j = 1\n",
    "    while j <= i:\n",
    "        if (i == 1 or i == n) or (j == 1 or j == i):\n",
    "            print(\"*\", end=\"\")\n",
    "        else:\n",
    "            print(\" \", end=\"\")\n",
    "        j += 1\n",
    "    print()\n",
    "    i += 1"
   ]
  },
  {
   "cell_type": "code",
   "execution_count": null,
   "id": "5d7b56e4",
   "metadata": {},
   "outputs": [
    {
     "name": "stdout",
     "output_type": "stream",
     "text": [
      "*   *\n",
      "*   *\n",
      "*****\n",
      "*   *\n",
      "*   *\n"
     ]
    }
   ],
   "source": [
    "# print H pattern of n \n",
    "n = int(input())\n",
    "i = 1\n",
    "while i <= n:\n",
    "    if i == (n+1)//2:\n",
    "        print(\"*\"*n)\n",
    "    else:\n",
    "        print(\"*\"+\" \"*(n-2)+\"*\")\n",
    "    i += 1"
   ]
  },
  {
   "cell_type": "code",
   "execution_count": null,
   "id": "4c36073d",
   "metadata": {},
   "outputs": [],
   "source": []
  }
 ],
 "metadata": {
  "kernelspec": {
   "display_name": "Python 3",
   "language": "python",
   "name": "python3"
  },
  "language_info": {
   "codemirror_mode": {
    "name": "ipython",
    "version": 3
   },
   "file_extension": ".py",
   "mimetype": "text/x-python",
   "name": "python",
   "nbconvert_exporter": "python",
   "pygments_lexer": "ipython3",
   "version": "3.7.0"
  }
 },
 "nbformat": 4,
 "nbformat_minor": 5
}
