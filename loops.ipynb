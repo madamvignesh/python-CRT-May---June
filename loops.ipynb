{
 "cells": [
  {
   "cell_type": "markdown",
   "id": "93a6ae8e",
   "metadata": {},
   "source": [
    "***Loops in Python***\n",
    "\n",
    "In Python, loops are control flow structures that allow repeated execution of a block of code. There are two primary types: **`for` loops** and **`while` loops**. A `for` loop is used to iterate over a sequence such as a list, tuple, string, or range, executing the loop body for each element. A `while` loop runs as long as a specified condition is true, making it useful when the number of iterations is not predetermined. Python also provides loop control statements like `break` to exit a loop prematurely, `continue` to skip the current iteration, and `pass` as a placeholder when no action is required. Loops help reduce code repetition and improve program efficiency.\n"
   ]
  },
  {
   "cell_type": "code",
   "execution_count": 1,
   "id": "cd94f492",
   "metadata": {},
   "outputs": [
    {
     "name": "stdout",
     "output_type": "stream",
     "text": [
      "apple\n",
      "banana\n",
      "cherry\n"
     ]
    }
   ],
   "source": [
    "# for loops in python\n",
    "# for loops are used to iterate over a sequence (like a list, tuple, dictionary, set, or string)\n",
    "# for loops can also iterate over a range of numbers\n",
    "\n",
    "# Example 1: Using a for loop to iterate over a list\n",
    "fruits = [\"apple\", \"banana\", \"cherry\"]\n",
    "for fruit in fruits:\n",
    "    print(fruit)"
   ]
  },
  {
   "cell_type": "code",
   "execution_count": 4,
   "id": "bca312f5",
   "metadata": {},
   "outputs": [
    {
     "name": "stdout",
     "output_type": "stream",
     "text": [
      "b\n",
      "a\n",
      "n\n",
      "a\n",
      "n\n",
      "a\n",
      "\n",
      "0\n",
      "1\n",
      "2\n",
      "3\n",
      "4\n",
      "\n",
      "10\n",
      "20\n",
      "30\n",
      "40\n",
      "50\n"
     ]
    }
   ],
   "source": [
    "# Example 2: Using a for loop to iterate over a string\n",
    "for letter in \"banana\":\n",
    "    print(letter)\n",
    "\n",
    "print(\"\")\n",
    "# Example 3: Using a for loop with the range() function\n",
    "for i in range(5):\n",
    "    print(i)\n",
    "\n",
    "print(\"\")\n",
    "# Example 4: Using a for loop with the range() function to iterate over a list\n",
    "numbers = [10, 20, 30, 40, 50]\n",
    "for i in range(len(numbers)):\n",
    "    print(numbers[i])"
   ]
  },
  {
   "cell_type": "code",
   "execution_count": 4,
   "id": "7beab99c",
   "metadata": {},
   "outputs": [
    {
     "name": "stdout",
     "output_type": "stream",
     "text": [
      "*****\n",
      "*****\n",
      "*****\n",
      "*****\n",
      "*****\n",
      "\n",
      "\n",
      "* * \n",
      "* * \n",
      "* * \n"
     ]
    }
   ],
   "source": [
    "# Example 4: Print n numbers are * \n",
    "n = int(input(\"Enter a number: \"))\n",
    "for i in range(n):\n",
    "    print(\"*\"*n)\n",
    "\n",
    "print(\"\")\n",
    "\n",
    "print(\"\")\n",
    "# Example 5: Print m X n numbers are *\n",
    "m = int(input(\"Enter a number: \"))\n",
    "n = int(input(\"Enter a number: \"))\n",
    "for i in range(m):\n",
    "    for j in range(n):\n",
    "        print(\"*\", end=\" \")\n",
    "    print(\"\")\n"
   ]
  },
  {
   "cell_type": "code",
   "execution_count": 1,
   "id": "86fc622b",
   "metadata": {},
   "outputs": [
    {
     "name": "stdout",
     "output_type": "stream",
     "text": [
      "*\n",
      "**\n",
      "***\n",
      "****\n",
      "*****\n"
     ]
    }
   ],
   "source": [
    "# Print right traingle \n",
    "num = int(input(\"Enter a number: \")) # 5\n",
    "for i in range(num):\n",
    "    print(\"*\" * (i + 1))\n",
    "\n"
   ]
  },
  {
   "cell_type": "code",
   "execution_count": 2,
   "id": "9f771417",
   "metadata": {},
   "outputs": [
    {
     "name": "stdout",
     "output_type": "stream",
     "text": [
      "    *\n",
      "   **\n",
      "  ***\n",
      " ****\n",
      "*****\n"
     ]
    }
   ],
   "source": [
    "# print inverted right triangle\n",
    "num = int(input(\"Enter a number: \")) # 5\n",
    "for i in range(num):\n",
    "    print(\" \"*(num-1-i) + \"*\"*(i+1))"
   ]
  },
  {
   "cell_type": "code",
   "execution_count": null,
   "id": "3a13ed4f",
   "metadata": {},
   "outputs": [
    {
     "name": "stdout",
     "output_type": "stream",
     "text": [
      "*****\n",
      "*   *\n",
      "*   *\n",
      "*   *\n",
      "*****\n"
     ]
    }
   ],
   "source": [
    "# print outline rectangle \n",
    "num = int(input())\n",
    "for i in range(num):\n",
    "    if (i==0 or i==num-1):\n",
    "        print(\"*\" * num)\n",
    "    else:\n",
    "        print(\"*\" + \" \" * (num-2) + \"*\")"
   ]
  },
  {
   "cell_type": "code",
   "execution_count": null,
   "id": "5f628060",
   "metadata": {},
   "outputs": [
    {
     "name": "stdout",
     "output_type": "stream",
     "text": [
      "*****\n",
      "*****\n",
      "*****\n"
     ]
    }
   ],
   "source": [
    "# print m x n rectangle\n",
    "n = int(input())\n",
    "m = int(input())\n",
    "\n",
    "for i in range(m):\n",
    "    print(\"*\"*n)"
   ]
  },
  {
   "cell_type": "code",
   "execution_count": 9,
   "id": "6e545cb6",
   "metadata": {},
   "outputs": [
    {
     "name": "stdout",
     "output_type": "stream",
     "text": [
      "2\n"
     ]
    }
   ],
   "source": [
    "# check the number is prime or not\n",
    "num = int(input(\"Enter a number: \"))\n",
    "flag = 0\n",
    "for i in range(1,num+1):\n",
    "    if num % i == 0:\n",
    "        flag +=1\n",
    "print(flag)"
   ]
  },
  {
   "cell_type": "code",
   "execution_count": 3,
   "id": "e9ba1fad",
   "metadata": {},
   "outputs": [
    {
     "name": "stdout",
     "output_type": "stream",
     "text": [
      "1 2 3 4 5 6 7 8 9 100 11 12 13 14 15 16 17 18 19 400 21 22 23 24 \n"
     ]
    }
   ],
   "source": [
    "# print 1 to n 25 with 10 mutliple square \n",
    "num = 25 # 5\n",
    "for i in range(1,num):\n",
    "    if i % 10 == 0:\n",
    "        print(i*i, end=\" \")\n",
    "        continue\n",
    "    print(i, end=\" \")\n",
    "print(\"\")"
   ]
  },
  {
   "cell_type": "code",
   "execution_count": null,
   "id": "313747a2",
   "metadata": {},
   "outputs": [
    {
     "name": "stdout",
     "output_type": "stream",
     "text": [
      "2 \n",
      "2 3 \n",
      "2 3 4 \n",
      "2 3 4 5 \n",
      "2 3 4 5 6 \n"
     ]
    }
   ],
   "source": [
    "# Print right angle triangle with number \n",
    "n = 6\n",
    "for num in range(2,n+1):\n",
    "    flag = 0\n",
    "    for j in range(2,num):\n",
    "        if num % j == 0:\n",
    "            flag = 1\n",
    "            break\n",
    "    print()"
   ]
  },
  {
   "cell_type": "code",
   "execution_count": null,
   "id": "7ee7cb81",
   "metadata": {},
   "outputs": [
    {
     "name": "stdout",
     "output_type": "stream",
     "text": [
      "2 3 5 7 11 13 17 19 23 "
     ]
    }
   ],
   "source": [
    "#  print prime number from 2 to n numbers range\n",
    "n = int(input(\"Enter a number: \")) # 5\n",
    "for num in range(2,n+1):\n",
    "    flag = 0\n",
    "    for j in range(2,num):\n",
    "        if num % j == 0:\n",
    "            flag = 1\n",
    "            break\n",
    "    if flag == 0:\n",
    "        print(num, end=\" \")"
   ]
  },
  {
   "cell_type": "code",
   "execution_count": null,
   "id": "360c5ffd",
   "metadata": {},
   "outputs": [
    {
     "name": "stdout",
     "output_type": "stream",
     "text": [
      "2: 1 2\n",
      "3: 1 3\n",
      "4: 1 2 4\n",
      "5: 1 5\n",
      "6: 1 2 3 6\n"
     ]
    }
   ],
   "source": [
    "#  print 2 to n factors\n",
    "n = int(input(\"Enter a number: \")) # 5\n",
    "for num in range(2,n+1):\n",
    "    print(str(num)+\":\", end=\"\")\n",
    "    for j in range(1,num+1):\n",
    "        if num % j == 0:\n",
    "            print(\" \" + str(j), end=\"\")\n",
    "    print(\"\")\n",
    "\n"
   ]
  },
  {
   "cell_type": "code",
   "execution_count": null,
   "id": "e5790304",
   "metadata": {},
   "outputs": [
    {
     "name": "stdout",
     "output_type": "stream",
     "text": [
      "2: 2\n",
      "3: 2\n",
      "4: 3\n",
      "5: 2\n",
      "6: 4\n"
     ]
    }
   ],
   "source": [
    "# print each number factor count from 2 to n \n",
    "n = int(input(\"Enter a number: \")) # 5\n",
    "for num in range(2,n+1):\n",
    "    print(str(num)+\":\", end=\"\")\n",
    "    count = 0\n",
    "    for j in range(1,num+1):\n",
    "        if num % j == 0:   \n",
    "            count +=1\n",
    "\n",
    "    print(\" \" + str(count))\n",
    "\n"
   ]
  },
  {
   "cell_type": "code",
   "execution_count": null,
   "id": "403fdde2",
   "metadata": {},
   "outputs": [
    {
     "name": "stdout",
     "output_type": "stream",
     "text": [
      "53 59 61 67 71 73 79 83 89 97 "
     ]
    }
   ],
   "source": [
    "# print prime numbers from n to m range\n",
    "n = int(input(\"Enter a number: \")) # 5\n",
    "m = int(input(\"Enter a number: \")) # 5\n",
    "for num in range(n,m+1):\n",
    "    flag = 0\n",
    "    for j in range(2,num):\n",
    "        if num % j == 0:\n",
    "            flag = 1\n",
    "            break\n",
    "    if flag == 0:\n",
    "        print(num, end=\" \")"
   ]
  },
  {
   "cell_type": "code",
   "execution_count": null,
   "id": "fd241474",
   "metadata": {},
   "outputs": [
    {
     "name": "stdout",
     "output_type": "stream",
     "text": [
      "92\n"
     ]
    }
   ],
   "source": [
    "# sum of the even numbers\n",
    "n = int(input(\"Enter a number: \")) # 5\n",
    "m = int(input(\"Enter a number: \")) # 5\n",
    "sum = 0\n",
    "for i in range(n,m+1):\n",
    "    if i % 2 == 0:\n",
    "        sum += i\n",
    "print(sum)"
   ]
  },
  {
   "cell_type": "code",
   "execution_count": null,
   "id": "6e8e645e",
   "metadata": {},
   "outputs": [
    {
     "name": "stdout",
     "output_type": "stream",
     "text": [
      "5\n"
     ]
    }
   ],
   "source": [
    "# print median of n and m range\n",
    "n = int(input(\"Enter a number: \")) # 5\n",
    "m = int(input(\"Enter a number: \")) # 5\n",
    "print(int((m+n)/2))"
   ]
  },
  {
   "cell_type": "code",
   "execution_count": null,
   "id": "b77cc2cd",
   "metadata": {},
   "outputs": [
    {
     "name": "stdout",
     "output_type": "stream",
     "text": [
      "division by 2\n",
      "not division by 2 and 3\n",
      "division by 3 and 2\n"
     ]
    }
   ],
   "source": [
    "#  check each number from n to m, divible by 2 and 3 or 6\n",
    "n = int(input(\"Enter a number: \")) # 5\n",
    "m = int(input(\"Enter a number: \")) # 5\n",
    "for num in range(n,m+1):\n",
    "    if num % 2 == 0:\n",
    "        if num % 3 == 0:\n",
    "            print(\"division by 3 and 2\")\n",
    "        else:\n",
    "            print(\"division by 2\")\n",
    "    else:\n",
    "        if num % 3 == 0:\n",
    "            print(\"division by 3\")\n",
    "        else:\n",
    "            print(\"not division by 2 and 3\")"
   ]
  },
  {
   "cell_type": "code",
   "execution_count": null,
   "id": "2b36258c",
   "metadata": {},
   "outputs": [
    {
     "name": "stdout",
     "output_type": "stream",
     "text": [
      "1 4 9 16 25 36 49 "
     ]
    }
   ],
   "source": [
    "#  print square of n to m range\n",
    "n = int(input(\"Enter a number: \")) # 5\n",
    "m = int(input(\"Enter a number: \")) # 5\n",
    "for i in range(n,m+1):\n",
    "    print(i*i, end=\" \")"
   ]
  },
  {
   "cell_type": "code",
   "execution_count": null,
   "id": "88157fa5",
   "metadata": {},
   "outputs": [
    {
     "name": "stdout",
     "output_type": "stream",
     "text": [
      "0 1 2 3 4 5 6 7 8 9 10 11 12 13 14 15 16 17 18 19 20 21 22 23 24 25 26 27 28 29 30 31 32 33 34 35 36 37 38 39 40 41 42 43 44 45 46 47 48 49 50 51 52 53 54 55 56 57 58 59 60 61 62 63 64 65 66 67 68 69 70 71 72 73 74 75 76 77 78 79 80 81 82 83 84 85 86 87 88 89 90 91 92 93 94 95 96 97 98 99 "
     ]
    }
   ],
   "source": [
    "num = 100\n",
    "temp = 0\n",
    "while temp<num:\n",
    "    print(temp, end=\" \")\n",
    "    temp += 1\n",
    "\n"
   ]
  },
  {
   "cell_type": "code",
   "execution_count": null,
   "id": "e3e70d8d",
   "metadata": {},
   "outputs": [
    {
     "name": "stdout",
     "output_type": "stream",
     "text": [
      "40320\n"
     ]
    }
   ],
   "source": [
    "#  print 1 to m product \n",
    "n = int(input())\n",
    "product = 1\n",
    "for i in range(1,n+1):\n",
    "    product *= i\n",
    "print(product)"
   ]
  },
  {
   "cell_type": "code",
   "execution_count": null,
   "id": "95eafb31",
   "metadata": {},
   "outputs": [
    {
     "name": "stdout",
     "output_type": "stream",
     "text": [
      "8 * 1 = 8\n",
      "8 * 2 = 16\n",
      "8 * 3 = 24\n",
      "8 * 4 = 32\n",
      "8 * 5 = 40\n",
      "8 * 6 = 48\n",
      "8 * 7 = 56\n",
      "8 * 8 = 64\n",
      "8 * 9 = 72\n",
      "8 * 10 = 80\n"
     ]
    }
   ],
   "source": [
    "#  print n table\n",
    "n = int(input())\n",
    "for i in range(1,11):\n",
    "    print(f\"{n} * {i} = {n*i}\")"
   ]
  },
  {
   "cell_type": "code",
   "execution_count": null,
   "id": "a6e9e2a4",
   "metadata": {},
   "outputs": [
    {
     "name": "stdout",
     "output_type": "stream",
     "text": [
      "8 4 "
     ]
    }
   ],
   "source": [
    "# print reverse order with n diff\n",
    "n = int(input())\n",
    "for i in range(n,0,-4):\n",
    "    print(i, end=\" \")"
   ]
  },
  {
   "cell_type": "code",
   "execution_count": null,
   "id": "ca4c8726",
   "metadata": {},
   "outputs": [
    {
     "name": "stdout",
     "output_type": "stream",
     "text": [
      "100 97 94 91 88 85 82 79 76 73 70 67 64 61 58 55 52 49 46 43 40 37 34 31 28 25 22 19 16 13 10 7 4 1 "
     ]
    }
   ],
   "source": [
    "# print from 100 to 0 with -3\n",
    "for i in range(100,0,-3):\n",
    "    print(i, end=\" \")"
   ]
  },
  {
   "cell_type": "code",
   "execution_count": 6,
   "id": "e0439218",
   "metadata": {},
   "outputs": [
    {
     "name": "stdout",
     "output_type": "stream",
     "text": [
      "12865\n"
     ]
    }
   ],
   "source": [
    "# print reverse number\n",
    "num = int(input())\n",
    "res = 0\n",
    "while num>0:\n",
    "    temp = num % 10\n",
    "    res = (res * 10) + temp\n",
    "    num = num // 10\n",
    "print(res)"
   ]
  },
  {
   "cell_type": "code",
   "execution_count": null,
   "id": "e015ec69",
   "metadata": {},
   "outputs": [
    {
     "name": "stdout",
     "output_type": "stream",
     "text": [
      "432\n"
     ]
    }
   ],
   "source": [
    "# print reverse number for loop\n",
    "n = int(input())\n",
    "res = 0\n",
    "for i in range(len(str(n))-1):\n",
    "    temp = n % 10\n",
    "    res = (res * 10) + temp\n",
    "    n = n // 10\n",
    "print(res)"
   ]
  },
  {
   "cell_type": "code",
   "execution_count": null,
   "id": "499edaa1",
   "metadata": {},
   "outputs": [
    {
     "name": "stdout",
     "output_type": "stream",
     "text": [
      "h\n",
      "y\n",
      "d\n",
      "e\n",
      "r\n",
      "a\n",
      "b\n",
      "a\n",
      "d\n"
     ]
    }
   ],
   "source": [
    "# print each char from a string\n",
    "string = \"hyderabad\"\n",
    "\n",
    "for i in string:\n",
    "    print(i)"
   ]
  },
  {
   "cell_type": "code",
   "execution_count": null,
   "id": "0d2a0cfe",
   "metadata": {},
   "outputs": [
    {
     "name": "stdout",
     "output_type": "stream",
     "text": [
      "dabaredyH\n"
     ]
    }
   ],
   "source": [
    "# print each char from a char using for range\n",
    "string = \"Hyderabad\"\n",
    "\n",
    "res = \"\"\n",
    "for i in range(len(string)-1,-1,-1):\n",
    "    res += string[i]\n",
    "print(res)"
   ]
  },
  {
   "cell_type": "code",
   "execution_count": null,
   "id": "429ebc1f",
   "metadata": {},
   "outputs": [
    {
     "name": "stdout",
     "output_type": "stream",
     "text": [
      "adI\n",
      "n\n"
     ]
    }
   ],
   "source": [
    "# slicing the string\n",
    "string = \"India\"\n",
    "print(string[::-2])\n",
    "print(string[1])"
   ]
  },
  {
   "cell_type": "code",
   "execution_count": null,
   "id": "dfdc2425",
   "metadata": {},
   "outputs": [
    {
     "name": "stdout",
     "output_type": "stream",
     "text": [
      "yderaba\n"
     ]
    }
   ],
   "source": [
    "# removing first and last char from the string\n",
    "string = input(\"Enter a string: \")\n",
    "print(string[1:-1])"
   ]
  },
  {
   "cell_type": "code",
   "execution_count": null,
   "id": "7a0cc12f",
   "metadata": {},
   "outputs": [],
   "source": []
  }
 ],
 "metadata": {
  "kernelspec": {
   "display_name": "Python 3",
   "language": "python",
   "name": "python3"
  },
  "language_info": {
   "codemirror_mode": {
    "name": "ipython",
    "version": 3
   },
   "file_extension": ".py",
   "mimetype": "text/x-python",
   "name": "python",
   "nbconvert_exporter": "python",
   "pygments_lexer": "ipython3",
   "version": "3.7.0"
  }
 },
 "nbformat": 4,
 "nbformat_minor": 5
}
