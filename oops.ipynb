{
 "cells": [
  {
   "cell_type": "code",
   "execution_count": 1,
   "id": "90acc389",
   "metadata": {},
   "outputs": [
    {
     "name": "stdout",
     "output_type": "stream",
     "text": [
      "123\n"
     ]
    }
   ],
   "source": [
    "print(123)"
   ]
  },
  {
   "cell_type": "code",
   "execution_count": 11,
   "id": "9d8c479b",
   "metadata": {},
   "outputs": [
    {
     "name": "stdout",
     "output_type": "stream",
     "text": [
      "Name: PVR\n",
      "Address: Hyderabad\n",
      "Name: Lulu\n",
      "Address: Hyderabad\n"
     ]
    }
   ],
   "source": [
    "class GercoryMall:\n",
    "    def __init__(self, name, address, contact):\n",
    "        self.name = name \n",
    "        self.address = address \n",
    "        self.contact = contact\n",
    "    def displayDetails(self):\n",
    "        print(f\"Name: {self.name}\\nAddress: {self.address}\")\n",
    "\n",
    "mall1 = GercoryMall('PVR',\"Hyderabad\",9876543210)\n",
    "mall1.displayDetails()\n",
    "\n",
    "mall2 = GercoryMall('Lulu',\"Hyderabad\",8563214790)\n",
    "mall2.displayDetails()"
   ]
  },
  {
   "cell_type": "code",
   "execution_count": 38,
   "id": "ccc85358",
   "metadata": {},
   "outputs": [
    {
     "name": "stdout",
     "output_type": "stream",
     "text": [
      "----------------------\n",
      "Name: BMW\n",
      "Model: M4\n",
      "Price: 5000000\n",
      "Engine ON: False\n",
      "Fair No: 562348\n",
      "Accelaration: 35\n",
      "Mileage: 6\n",
      "Speed: 0\n",
      "----------------------\n",
      "Cannot speed up, engine is OFF\n",
      "----------------------\n",
      "----------------------\n",
      "Speed increased to 35 km/h\n",
      "----------------------\n",
      "Name: BMW\n",
      "Model: M4\n",
      "Price: 5000000\n",
      "Engine ON: True\n",
      "Fair No: 562348\n",
      "Accelaration: 35\n",
      "Mileage: 6\n",
      "Speed: 35\n",
      "----------------------\n",
      "Speed decreased to 0 km/h\n",
      "Speed cannot be negative\n",
      "----------------------\n",
      "Engine is ON\n",
      "Engine is OFF\n",
      "----------------------\n"
     ]
    }
   ],
   "source": [
    "class Car:\n",
    "    def __init__(self,name,model,price,fairNo):\n",
    "        self.name = name\n",
    "        self.model = model \n",
    "        self.price = price \n",
    "        self.isEngineOn = False\n",
    "        self.__fairNo = fairNo\n",
    "    def displayDetails(self):\n",
    "        print(f\"Name: {self.name}\\nModel: {self.model}\\nPrice: {self.price}\")\n",
    "        print(f\"Engine ON: {self.isEngineOn}\")\n",
    "        print(f\"Fair No: {self.__fairNo}\")\n",
    "    def engineOn(self):\n",
    "        self.isEngineOn = True\n",
    "    def engineOff(self):\n",
    "        self.isEngineOn = False\n",
    "    def enginestatus(self):\n",
    "        if self.isEngineOn:\n",
    "            print(\"Engine is ON\")\n",
    "        else:\n",
    "            print(\"Engine is OFF\")\n",
    "\n",
    "class Gas(Car):\n",
    "    def __init__(self, name, model, price, fairNo,accelaration,mileage):\n",
    "        super().__init__(name, model, price, fairNo)\n",
    "        self.accelaration = accelaration\n",
    "        self.mileage = mileage\n",
    "        self.speed = 0 # default value\n",
    "    def displayDetails(self):\n",
    "        super().displayDetails()\n",
    "        print(f\"Accelaration: {self.accelaration}\")\n",
    "        print(f\"Mileage: {self.mileage}\")\n",
    "        print(f\"Speed: {self.speed}\")\n",
    "    def speedup(self):\n",
    "        if self.isEngineOn:\n",
    "            self.speed += self.accelaration\n",
    "            print(f\"Speed increased to {self.speed} km/h\")\n",
    "        else:\n",
    "            print(\"Cannot speed up, engine is OFF\")\n",
    "    def speeddown(self):\n",
    "        if self.isEngineOn:\n",
    "            if self.speed - self.accelaration >= 0:\n",
    "                self.speed -= self.accelaration\n",
    "                print(f\"Speed decreased to {self.speed} km/h\")\n",
    "            else:\n",
    "                print(\"Speed cannot be negative\")\n",
    "        else:\n",
    "            print(\"Cannot speed down, engine is OFF\")\n",
    "    \n",
    "\n",
    "car1 = Car(\"Lamgo\",\"S1A\",50000000,85643) # declare\n",
    "print(\"----------------------\")\n",
    "bmw = Gas(\"BMW\",\"M4\",5000000,562348,35,6)\n",
    "bmw.displayDetails()  # display details of the car\n",
    "print(\"----------------------\")\n",
    "bmw.speedup()  # try to speed up without engine on\n",
    "print(\"----------------------\")\n",
    "bmw.engineOn()  # turn on the engine\n",
    "print(\"----------------------\")\n",
    "bmw.speedup()\n",
    "print(\"----------------------\")\n",
    "bmw.displayDetails()\n",
    "print(\"----------------------\")\n",
    "bmw.speeddown()  # try to speed down\n",
    "bmw.speeddown()  # try to speed down again\n",
    "print(\"----------------------\")\n",
    "bmw.enginestatus()  # check engine status\n",
    "bmw.engineOff()\n",
    "bmw.enginestatus()  # check engine status\n",
    "print(\"----------------------\")"
   ]
  },
  {
   "cell_type": "code",
   "execution_count": null,
   "id": "c7965562",
   "metadata": {},
   "outputs": [
    {
     "ename": "AttributeError",
     "evalue": "'ATM' object has no attribute '__pin'",
     "output_type": "error",
     "traceback": [
      "\u001b[1;31m---------------------------------------------------------------------------\u001b[0m",
      "\u001b[1;31mAttributeError\u001b[0m                            Traceback (most recent call last)",
      "\u001b[1;32m~\\AppData\\Local\\Temp\\ipykernel_22648\\3475046251.py\u001b[0m in \u001b[0;36m<module>\u001b[1;34m\u001b[0m\n\u001b[0;32m     21\u001b[0m \u001b[0mperson2\u001b[0m \u001b[1;33m=\u001b[0m \u001b[0mATM\u001b[0m\u001b[1;33m(\u001b[0m\u001b[1;34m\"Davi\"\u001b[0m\u001b[1;33m,\u001b[0m\u001b[1;36m7895\u001b[0m\u001b[1;33m,\u001b[0m\u001b[1;36m500\u001b[0m\u001b[1;33m)\u001b[0m\u001b[1;33m\u001b[0m\u001b[0m\n\u001b[0;32m     22\u001b[0m \u001b[0minput_person1\u001b[0m \u001b[1;33m=\u001b[0m \u001b[0mint\u001b[0m\u001b[1;33m(\u001b[0m\u001b[0minput\u001b[0m\u001b[1;33m(\u001b[0m\u001b[1;33m)\u001b[0m\u001b[1;33m)\u001b[0m\u001b[1;33m\u001b[0m\u001b[0m\n\u001b[1;32m---> 23\u001b[1;33m \u001b[0mprint\u001b[0m\u001b[1;33m(\u001b[0m\u001b[0mperson1\u001b[0m\u001b[1;33m.\u001b[0m\u001b[0m__pin\u001b[0m\u001b[1;33m)\u001b[0m\u001b[1;33m\u001b[0m\u001b[0m\n\u001b[0m\u001b[0;32m     24\u001b[0m \u001b[1;32mif\u001b[0m \u001b[0mperson1\u001b[0m\u001b[1;33m.\u001b[0m\u001b[0mcheckPin\u001b[0m\u001b[1;33m(\u001b[0m\u001b[0minput_person1\u001b[0m\u001b[1;33m)\u001b[0m\u001b[1;33m:\u001b[0m\u001b[1;33m\u001b[0m\u001b[0m\n\u001b[0;32m     25\u001b[0m     \u001b[0mprint\u001b[0m\u001b[1;33m(\u001b[0m\u001b[1;34m\"1. Withdrawn 2. Show Balance 3. Deposit 4. Exit\"\u001b[0m\u001b[1;33m)\u001b[0m\u001b[1;33m\u001b[0m\u001b[0m\n",
      "\u001b[1;31mAttributeError\u001b[0m: 'ATM' object has no attribute '__pin'"
     ]
    }
   ],
   "source": [
    "class ATM:\n",
    "    def __init__(self,name,pin,balance):\n",
    "        self.name= name \n",
    "        self.__pin = pin \n",
    "        self.__balance = balance\n",
    "    def checkPin(self,userPin):\n",
    "        if userPin == self.__pin:\n",
    "            return True\n",
    "        return False\n",
    "    def withdrawn(self,userAmount):\n",
    "        if userAmount<= self.__balance:\n",
    "            self.__balance-=userAmount\n",
    "            return \"Successful\"\n",
    "        return 'Failed'\n",
    "    def showBalance(self):\n",
    "        print('Balance in your Account',self.__balance)\n",
    "    def deposit(self,userAmount):\n",
    "        self.__balance+=userAmount\n",
    "        return \"Successfully Deposited\"\n",
    "person1 = ATM(\"John\",8520,5000)\n",
    "person2 = ATM(\"Davi\",7895,500)\n",
    "input_person1 = int(input())\n",
    "if person1.checkPin(input_person1):\n",
    "    print(\"1. Withdrawn 2. Show Balance 3. Deposit 4. Exit\")\n",
    "    temp = int(input())\n",
    "    while temp<4:\n",
    "        if temp == 1:\n",
    "            amount = int(input())\n",
    "            print(person1.withdrawn(amount))\n",
    "        elif temp == 2:\n",
    "            person1.showBalance()\n",
    "        elif temp == 3:\n",
    "            amount = int(input())\n",
    "            print(person1.deposit(amount))\n",
    "        else:\n",
    "            print(\"Exited\")\n",
    "        print(\"1. Withdrawn 2. Show Balance 3. Deposit 4. Exit\")\n",
    "        temp = int(input())\n",
    "else:\n",
    "    print(\"Invalid Pin\")\n",
    "\n"
   ]
  },
  {
   "cell_type": "code",
   "execution_count": null,
   "id": "3e1660ae",
   "metadata": {},
   "outputs": [],
   "source": []
  }
 ],
 "metadata": {
  "kernelspec": {
   "display_name": "Python 3",
   "language": "python",
   "name": "python3"
  },
  "language_info": {
   "codemirror_mode": {
    "name": "ipython",
    "version": 3
   },
   "file_extension": ".py",
   "mimetype": "text/x-python",
   "name": "python",
   "nbconvert_exporter": "python",
   "pygments_lexer": "ipython3",
   "version": "3.7.0"
  }
 },
 "nbformat": 4,
 "nbformat_minor": 5
}
