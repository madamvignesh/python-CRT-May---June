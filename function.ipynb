{
 "cells": [
  {
   "cell_type": "code",
   "execution_count": null,
   "id": "9066e82d",
   "metadata": {},
   "outputs": [
    {
     "name": "stdout",
     "output_type": "stream",
     "text": [
      "[1, 6, 9, 4, 3] [1, 63, 2, 3, 4]\n"
     ]
    }
   ],
   "source": [
    "def create_arr():\n",
    "    n = int(input(\"Enter the number of elements in the array: \"))\n",
    "    arr = list(map(int, input(f\"Enter {n} integers\").split()))\n",
    "    return arr\n",
    "arr1 = create_arr()\n",
    "arr2 = create_arr()\n",
    "arr3 = create_arr()\n",
    "print(arr1,arr2)"
   ]
  },
  {
   "cell_type": "code",
   "execution_count": 6,
   "id": "939cd914",
   "metadata": {},
   "outputs": [
    {
     "name": "stdout",
     "output_type": "stream",
     "text": [
      "The array is:\n",
      "1 63 2 3 4 \n",
      "The array is:\n",
      "1 6 9 4 3 \n"
     ]
    }
   ],
   "source": [
    "def print_arr(arr):\n",
    "    print(\"The array is:\")\n",
    "    for i in arr:\n",
    "        print(i, end=' ')\n",
    "    print()  # for a new line after printing the array\n",
    "print_arr(arr2)\n",
    "print_arr(arr1)"
   ]
  },
  {
   "cell_type": "code",
   "execution_count": 7,
   "id": "f75ad504",
   "metadata": {},
   "outputs": [
    {
     "name": "stdout",
     "output_type": "stream",
     "text": [
      "145\n"
     ]
    }
   ],
   "source": [
    "def addition(x,y):\n",
    "    return x+y \n",
    "a = 67 \n",
    "b = 78\n",
    "print(addition(a,b))"
   ]
  },
  {
   "cell_type": "markdown",
   "id": "a0af6bcb",
   "metadata": {},
   "source": [
    "## 10 Basic Coding Questions on Functions\n",
    "\n",
    "1. **Write a function to add two numbers and return the result.**\n",
    "2. **Write a function that takes a string and returns its length.**\n",
    "3. **Write a function to check if a number is even or odd.**\n",
    "4. **Write a function that takes a list and returns the sum of its elements.**\n",
    "5. **Write a function to find the maximum of three numbers.**\n",
    "6. **Write a function that returns the factorial of a given number.**\n",
    "7. **Write a function to reverse a string.**\n",
    "8. **Write a function that checks if a given string is a palindrome.**\n",
    "9. **Write a function to count the number of vowels in a string.**\n",
    "10. **Write a function that takes a list and returns a new list with only the even numbers.**"
   ]
  },
  {
   "cell_type": "code",
   "execution_count": 10,
   "id": "efd4dea0",
   "metadata": {},
   "outputs": [
    {
     "name": "stdout",
     "output_type": "stream",
     "text": [
      "Hello, World!\n"
     ]
    }
   ],
   "source": [
    "text = \"Hello, World!\"\n",
    "print(text)"
   ]
  },
  {
   "cell_type": "code",
   "execution_count": 11,
   "id": "6b62a2c5",
   "metadata": {},
   "outputs": [
    {
     "name": "stdout",
     "output_type": "stream",
     "text": [
      "54\n",
      "18\n"
     ]
    }
   ],
   "source": [
    "def print_lenght_string(string):\n",
    "    print(len(string))\n",
    "print_lenght_string(\"India is y country and huge number people livinig here\")\n",
    "print_lenght_string(\"my name is vignesh\")"
   ]
  },
  {
   "cell_type": "code",
   "execution_count": 14,
   "id": "e3b33301",
   "metadata": {},
   "outputs": [
    {
     "name": "stdout",
     "output_type": "stream",
     "text": [
      "100\n",
      "None\n",
      "100\n"
     ]
    }
   ],
   "source": [
    "def add_number(a,b):\n",
    "    print(a+b)\n",
    "def return_add_num(a,b):\n",
    "    return a+b \n",
    "a = 90 \n",
    "b = 10\n",
    "c = add_number(a,b)\n",
    "print(c)\n",
    "c = return_add_num(a,b)\n",
    "print(c)"
   ]
  },
  {
   "cell_type": "code",
   "execution_count": null,
   "id": "96dcb0c7",
   "metadata": {},
   "outputs": [
    {
     "name": "stdout",
     "output_type": "stream",
     "text": [
      "25\n"
     ]
    }
   ],
   "source": [
    "def create_arr():\n",
    "    n = int(input(\"Enter the number of elements in the array: \"))\n",
    "    arr = list(map(int, input(f\"Enter {n} integers\").split()))\n",
    "    return arr\n",
    "def sum_arr(arr):\n",
    "    sum_num = 0\n",
    "    for num in arr:\n",
    "        sum_num+=num\n",
    "    return (sum_num)\n",
    "num_list = create_arr()\n",
    "print(sum_arr(num_list))\n",
    "\n"
   ]
  },
  {
   "cell_type": "code",
   "execution_count": null,
   "id": "06b2510b",
   "metadata": {},
   "outputs": [],
   "source": [
    "def count_vowels(text,lenght,i,v_count):\n",
    "    if i == lenght:\n",
    "        return v_count \n",
    "    if text[i] in 'aeiouAEIOU':\n",
    "        v_count += 1\n",
    "    return count_vowels(text,lenght,i+1,v_count)\n",
    "    \n",
    "text = \"India\"\n",
    "length = len(text)\n",
    "v_count = 0\n",
    "vowel_count = count_vowels(text[0], length, 0, v_count)\n",
    "print(f\"Number of vowels in '{text}': {vowel_count}\")\n"
   ]
  },
  {
   "cell_type": "markdown",
   "id": "ef7f4d96",
   "metadata": {},
   "source": [
    "### Real-Life Scenario Description\n",
    "\n",
    "Imagine you are working as a data analyst for a weather monitoring agency. Every week, you receive a list of daily temperatures recorded in your city. Your task is to analyze this data and find out how many days in the week had temperatures above 30°C. This information helps the agency issue heat advisories and inform the public about unusually hot days.\n",
    "# Sample Input\n",
    "daily_temperatures = [28, 32, 35, 29, 31, 33, 27]  # Temperature in Celsius for 7 days\n",
    "threshold = 30  # Temperature threshold in Celsius\n",
    "\n",
    "\n",
    "\n"
   ]
  },
  {
   "cell_type": "code",
   "execution_count": null,
   "id": "2a92a47e",
   "metadata": {},
   "outputs": [],
   "source": [
    "def count_hot_days(arr):\n",
    "    count = 0\n",
    "    for temp in arr:\n",
    "        if temp > 30:\n",
    "            count += 1\n",
    "    return count\n",
    "n = int(input())\n",
    "arr = list(map(int, input().split()))\n",
    "res = count_hot_days(arr)\n",
    "print(f\"Number of hot days: {res}\")"
   ]
  },
  {
   "cell_type": "markdown",
   "id": "e6d1fdfd",
   "metadata": {},
   "source": [
    "### Real-Life Scenario Description\n",
    "\n",
    "Suppose you are a teacher who wants to analyze the scores of your students in a recent test. You receive a list of scores for all students in your class. Your task is to calculate and print the percentage of students who passed the test (scored above 40 marks) in the class. This information will help you understand the overall performance of the class.\n",
    "\n",
    "# Sample Input  \n",
    "student_scores = [68, 82, 90, 74, 77, 88, 39]  # Scores of students in a test  \n",
    "pass_mark = 85.7%"
   ]
  },
  {
   "cell_type": "code",
   "execution_count": 16,
   "id": "bdd2f713",
   "metadata": {},
   "outputs": [
    {
     "name": "stdout",
     "output_type": "stream",
     "text": [
      "Pass percentage: 85.71%\n"
     ]
    }
   ],
   "source": [
    "def pass_percentage(arr):\n",
    "    pass_stu = 0\n",
    "    for marks in arr:\n",
    "        if marks>=40:\n",
    "            pass_stu += 1\n",
    "    return pass_stu / len(arr) * 100\n",
    "\n",
    "arr = [68,82,90,74,77,88,39]\n",
    "res = pass_percentage(arr)\n",
    "print(f\"Pass percentage: {res:.2f}%\")"
   ]
  },
  {
   "cell_type": "markdown",
   "id": "bf5c4eba",
   "metadata": {},
   "source": [
    "### Advanced Real-Life Scenario\n",
    "\n",
    "You are working as a data scientist for a logistics company. Every week, you receive a list of delivery times (in hours) for all drivers. Your task is to identify the driver(s) who completed their deliveries in the shortest time and calculate how many drivers achieved this minimum delivery time. This information helps the company recognize top-performing drivers and optimize delivery routes.\n",
    "\n",
    "**Sample Input**  \n",
    "delivery_times = [5, 8, 2, 3, 1, 6]  # Delivery times in hours for each driver\n",
    "\n",
    "**Expected Output**  \n",
    "Minimum delivery time: 1  \n",
    "Number of drivers with minimum delivery time: 1"
   ]
  },
  {
   "cell_type": "code",
   "execution_count": 17,
   "id": "5ece75ba",
   "metadata": {},
   "outputs": [
    {
     "name": "stdout",
     "output_type": "stream",
     "text": [
      "Minimum delivery time: 1 hours\n",
      "number of drivers with minimum delivery time: 1\n"
     ]
    }
   ],
   "source": [
    "def min_delivery_time(delivery_time):\n",
    "    return min(delivery_time)\n",
    "delivery_time = [5, 8, 2, 3, 1, 6]\n",
    "res = min_delivery_time(delivery_time)\n",
    "print(f\"Minimum delivery time: {res} hours\")\n",
    "print(f\"number of drivers with minimum delivery time: {delivery_time.count(res)}\")"
   ]
  },
  {
   "cell_type": "markdown",
   "id": "6f94e936",
   "metadata": {},
   "source": [
    "### Real-Life Scenario Description\n",
    "\n",
    "You are a financial analyst tracking the monthly expenses of a household. You receive a list of expenses for each month of the year. Your task is to write a function that calculates the average monthly expense and identifies the month(s) with the highest expense. This will help the household understand their spending patterns and plan their budget more effectively.\n",
    "\n",
    "**Sample Input**  \n",
    "monthly_expenses = [1200, 1500, 1100, 1700, 1600, 1400, 1300, 1800, 1250, 1550, 1650, 1750]  # Expenses for 12 months\n",
    "\n",
    "**Expected Output**  \n",
    "Average monthly expense: 1479.17  \n",
    "Month(s) with highest expense: 8, 12"
   ]
  },
  {
   "cell_type": "markdown",
   "id": "987acc99",
   "metadata": {},
   "source": []
  }
 ],
 "metadata": {
  "kernelspec": {
   "display_name": "Python 3",
   "language": "python",
   "name": "python3"
  },
  "language_info": {
   "codemirror_mode": {
    "name": "ipython",
    "version": 3
   },
   "file_extension": ".py",
   "mimetype": "text/x-python",
   "name": "python",
   "nbconvert_exporter": "python",
   "pygments_lexer": "ipython3",
   "version": "3.7.0"
  }
 },
 "nbformat": 4,
 "nbformat_minor": 5
}
