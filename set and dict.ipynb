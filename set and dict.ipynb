{
 "cells": [
  {
   "cell_type": "code",
   "execution_count": null,
   "id": "25339e3b",
   "metadata": {},
   "outputs": [
    {
     "name": "stdout",
     "output_type": "stream",
     "text": [
      "id 12345\n",
      "name John\n",
      "age 30\n",
      "------------------\n",
      "id 12345\n",
      "name John\n",
      "age 30\n",
      "id 12345\n",
      "name John\n",
      "age 30\n",
      "city New York\n",
      "------------------\n",
      "id 12345\n",
      "name John\n",
      "age 31\n",
      "city New York\n"
     ]
    }
   ],
   "source": [
    "dictset ={\n",
    "    'id': '12345',\n",
    "    'name': 'John',\n",
    "    'age': 30,\n",
    "}\n",
    "for data in dictset:\n",
    "    print(data, dictset[data])\n",
    "print('------------------')\n",
    "for key, value in dictset.items():\n",
    "    print(key, value)\n",
    "dictset['city'] = 'New York'\n",
    "for key, value in dictset.items():\n",
    "    print(key, value)\n",
    "print('------------------')\n",
    "dictset['age'] = 31\n",
    "for key, value in dictset.items():\n",
    "    print(key, value)"
   ]
  },
  {
   "cell_type": "code",
   "execution_count": 5,
   "id": "2fba2433",
   "metadata": {},
   "outputs": [
    {
     "name": "stdout",
     "output_type": "stream",
     "text": [
      "Employee ID: 12345 {'id': '12345', 'name': 'John', 'age': 31, 'city': 'New York'}\n",
      "Employee ID: 67890 {'id': '67890', 'name': 'Alice', 'age': 28, 'city': 'Los Angeles', 'marks': {'math': 85, 'science': 90, 'english': 88}}\n"
     ]
    }
   ],
   "source": [
    "employe ={\n",
    "    dictset['id']: dictset,\n",
    "    '67890': {\n",
    "        'id': '67890',\n",
    "        'name': 'Alice',\n",
    "        'age': 28,\n",
    "        'city': 'Los Angeles',\n",
    "        'marks':{\n",
    "            'math': 85,\n",
    "            'science': 90,\n",
    "            'english': 88\n",
    "        }\n",
    "    }\n",
    "}\n",
    "for emp_id, emp_data in employe.items():\n",
    "    print(f'Employee ID: {emp_id}', emp_data)"
   ]
  },
  {
   "cell_type": "code",
   "execution_count": 6,
   "id": "99e0bb6c",
   "metadata": {},
   "outputs": [
    {
     "name": "stdout",
     "output_type": "stream",
     "text": [
      "Employee ID: 12345 {'id': '12345', 'name': 'John', 'age': 31, 'city': 'New York'}\n",
      "Employee ID: 67890 {'id': '67890', 'name': 'Alice', 'age': 28, 'city': 'Los Angeles'}\n"
     ]
    }
   ],
   "source": [
    "del employe['67890']['marks']\n",
    "for emp_id, emp_data in employe.items():\n",
    "    print(f'Employee ID: {emp_id}', emp_data)"
   ]
  },
  {
   "cell_type": "code",
   "execution_count": null,
   "id": "15ab9d62",
   "metadata": {},
   "outputs": [
    {
     "name": "stdout",
     "output_type": "stream",
     "text": [
      "ID: 1\n",
      "Name: Vignesh\n",
      "Department: EEE\n",
      "Maths: 68\n",
      "Science: 65\n",
      "English: 58\n",
      "------------------\n",
      "ID: 2\n",
      "Name: John\n",
      "Department: ECE\n",
      "Maths: 89\n",
      "Science: 85\n",
      "English: 78\n",
      "------------------\n"
     ]
    }
   ],
   "source": [
    "students ={\n",
    "    '1':{\n",
    "        'name':'Vignesh',\n",
    "        'dept':'EEE',\n",
    "        'marks':{\n",
    "            'maths':68,\n",
    "            'science':65,\n",
    "            'english':58,\n",
    "        }\n",
    "    },\n",
    "    '2':{\n",
    "        'name':'John',\n",
    "        'dept':'ECE',\n",
    "        'marks':{\n",
    "            'maths':89,\n",
    "            'science':85,\n",
    "            'english':78,\n",
    "        }\n",
    "    }\n",
    "}\n",
    "for student_id, student_data in students.items():\n",
    "    print('ID:',student_id)\n",
    "    print('Name:', student_data['name'])\n",
    "    print('Department:', student_data['dept'])\n",
    "    for student_tag, student_value in student_data.items():\n",
    "        if student_tag in ['name', 'dept']:\n",
    "            continue\n",
    "        if isinstance(student_value, dict):\n",
    "            for subject, marks in student_value.items():\n",
    "                print(f'{subject.capitalize()}: {marks}')\n",
    "    print('------------------')"
   ]
  },
  {
   "cell_type": "code",
   "execution_count": 10,
   "id": "305d2faf",
   "metadata": {},
   "outputs": [
    {
     "name": "stdout",
     "output_type": "stream",
     "text": [
      "{1: 3, 6: 1, 8: 2, 9: 2, 10: 1, 7: 1}\n"
     ]
    }
   ],
   "source": [
    "arr = [1, 6, 8, 8, 9 ,9, 10, 1, 1, 7]\n",
    "dictArr = {}\n",
    "for num in arr:\n",
    "    if num in dictArr:\n",
    "        dictArr[num] += 1\n",
    "    else:\n",
    "        dictArr[num] = 1\n",
    "print(dictArr)"
   ]
  },
  {
   "cell_type": "code",
   "execution_count": null,
   "id": "f676e65f",
   "metadata": {},
   "outputs": [],
   "source": []
  }
 ],
 "metadata": {
  "kernelspec": {
   "display_name": "Python 3",
   "language": "python",
   "name": "python3"
  },
  "language_info": {
   "codemirror_mode": {
    "name": "ipython",
    "version": 3
   },
   "file_extension": ".py",
   "mimetype": "text/x-python",
   "name": "python",
   "nbconvert_exporter": "python",
   "pygments_lexer": "ipython3",
   "version": "3.7.0"
  }
 },
 "nbformat": 4,
 "nbformat_minor": 5
}
