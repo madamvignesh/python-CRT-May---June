{
 "cells": [
  {
   "cell_type": "markdown",
   "id": "8ed3bffd",
   "metadata": {},
   "source": [
    "1. Write a Python program to create an array of 5 integers and print it.\n",
    "2. Write a program to input 10 numbers from the user and store them in an array.\n",
    "3. Given an array, print all its elements one by one.\n",
    "4. Write a function to find the largest element in an array.\n",
    "5. Write a function to find the smallest element in an array.\n",
    "6. Write a program to calculate the sum of all elements in an array.\n",
    "7. Write a program to count the number of even and odd numbers in an array.\n",
    "8. Write a program to search for a given number in an array and print its index.\n",
    "9. Write a program to reverse the elements of an array.\n",
    "10. Write a program to copy all elements from one array to another.\n",
    "11. Write a program to insert an element at a specific position in an array.\n",
    "12. Write a program to delete an element from an array at a given index.\n",
    "13. Write a program to merge two arrays into a third array.\n",
    "14. Write a program to sort an array in ascending order.\n",
    "15. Write a program to sort an array in descending order.\n",
    "16. Write a program to find the second largest element in an array.\n",
    "17. Write a program to remove duplicate elements from an array.\n",
    "18. Write a program to count the frequency of each element in an array.\n",
    "19. Write a program to rotate an array to the left by one position.\n",
    "20. Write a program to find the common elements between two arrays."
   ]
  },
  {
   "cell_type": "markdown",
   "id": "47843256",
   "metadata": {},
   "source": [
    "list of **Python array (list) methods**:\n",
    "\n",
    "---\n",
    "\n",
    "### 🔹 Basic List Methods:\n",
    "- `append(x)` – Adds `x` to the end of the list.\n",
    "- `extend(iterable)` – Adds all elements from another iterable.\n",
    "- `insert(i, x)` – Inserts `x` at index `i`.\n",
    "- `remove(x)` – Removes first occurrence of `x`.\n",
    "- `pop([i])` – Removes and returns item at index `i` (default: last).\n",
    "- `clear()` – Empties the entire list.\n",
    "\n",
    "---\n",
    "\n",
    "### 🔹 Querying & Counting:\n",
    "- `index(x)` – Returns index of first occurrence of `x`.\n",
    "- `count(x)` – Counts occurrences of `x` in the list.\n",
    "\n",
    "---\n",
    "\n",
    "### 🔹 Sorting & Reversing:\n",
    "- `sort()` – Sorts list in ascending order (in-place).\n",
    "- `reverse()` – Reverses the list (in-place).\n",
    "\n",
    "---\n",
    "\n",
    "### 🔹 Copying:\n",
    "- `copy()` – Returns a shallow copy of the list.\n",
    "\n",
    "---\n",
    "\n",
    "### 🔹 Power Techniques (Beyond Methods):\n",
    "- **Slicing** – `a[start:stop:step]` to extract sublists.\n",
    "- **List comprehension** – `[x for x in list if condition]` for transformation.\n",
    "- **Unpacking** – `a, b = zip(*zipped_list)` to reverse zip.\n",
    "- **Remove duplicates** – `list(set(list))`.\n"
   ]
  },
  {
   "cell_type": "markdown",
   "id": "eb60bd24",
   "metadata": {},
   "source": []
  },
  {
   "cell_type": "code",
   "execution_count": 1,
   "id": "327fe503",
   "metadata": {},
   "outputs": [
    {
     "name": "stdout",
     "output_type": "stream",
     "text": [
      "[0, 1, 2, 3, 4, 5, 6, 7]\n"
     ]
    }
   ],
   "source": [
    "n = int(input())\n",
    "arr = []\n",
    "for i in range(n):\n",
    "    arr.append(i)\n",
    "print(arr)"
   ]
  },
  {
   "cell_type": "code",
   "execution_count": 4,
   "id": "401d6e25",
   "metadata": {},
   "outputs": [
    {
     "name": "stdout",
     "output_type": "stream",
     "text": [
      "[1, 3, 5, 7, 9, 11, 13, 15, 17, 19]\n"
     ]
    }
   ],
   "source": [
    "n = int(input())\n",
    "arr = [x for x in range(1,n+1,2)]\n",
    "print(arr)"
   ]
  },
  {
   "cell_type": "markdown",
   "id": "16be8fbc",
   "metadata": {},
   "source": [
    "A Baker make 50 cakes daily. He make for 10 days. Daily arr[i] of cakes are solded. print count of the remaining unsold cakes.\n",
    "\n",
    "Input: arr = [24, 49, 20, 12, 30, 15, 18, 22, 10, 5]\n",
    "n = 10\n",
    "\n",
    "output: 26 1 30 38 35 32 28 40 45"
   ]
  },
  {
   "cell_type": "code",
   "execution_count": 7,
   "id": "36a48af9",
   "metadata": {},
   "outputs": [
    {
     "name": "stdout",
     "output_type": "stream",
     "text": [
      "26 1 30 38 20 35 32 28 40 45\n"
     ]
    }
   ],
   "source": [
    "\n",
    "sold_cakes = [24, 49, 20, 12, 30, 15, 18, 22, 10, 5]\n",
    "n = 10\n",
    "i = 0\n",
    "makes = 50\n",
    "unsold_cakes = []\n",
    "while i < n :\n",
    "    unsold_cakes.append(makes - sold_cakes[i])\n",
    "    i += 1\n",
    "print(*unsold_cakes)\n"
   ]
  },
  {
   "cell_type": "code",
   "execution_count": 8,
   "id": "92aaab28",
   "metadata": {},
   "outputs": [
    {
     "name": "stdout",
     "output_type": "stream",
     "text": [
      "5\n"
     ]
    }
   ],
   "source": [
    "score = [34, 36, 90, 56, 8, 63, 91, 89, 24 ,6, 103, 28]\n",
    "n = 12\n",
    "half_cen = []\n",
    "i = 0\n",
    "while i < n:\n",
    "    if score[i] >= 50 and score[i] < 100:\n",
    "        half_cen.append(score[i])\n",
    "    i+=1\n",
    "print(len(half_cen))"
   ]
  },
  {
   "cell_type": "code",
   "execution_count": 9,
   "id": "7773007f",
   "metadata": {},
   "outputs": [
    {
     "name": "stdout",
     "output_type": "stream",
     "text": [
      "50 5 40 15 40 30 40 45\n"
     ]
    }
   ],
   "source": [
    "walked_daily = [10, 1, 8, 3, 8, 6, 8, 9]\n",
    "n = 8\n",
    "time_taken = []\n",
    "i = 0\n",
    "while i < n:\n",
    "    time_taken.append(walked_daily[i]*5)\n",
    "    i += 1\n",
    "print(*time_taken)"
   ]
  },
  {
   "cell_type": "code",
   "execution_count": 11,
   "id": "a40b782c",
   "metadata": {},
   "outputs": [
    {
     "name": "stdout",
     "output_type": "stream",
     "text": [
      "114\n"
     ]
    }
   ],
   "source": [
    "collected_can = [2, 7, 9, 5, 9, 15, 20, 4,0,3,5,5]\n",
    "n = 12\n",
    "i = 0\n",
    "total_can = []\n",
    "while i < n:\n",
    "    if collected_can[i] % 5 == 0:\n",
    "        total_can.append(collected_can[i]+5)\n",
    "    else:\n",
    "        total_can.append(collected_can[i])\n",
    "    i += 1\n",
    "print(sum(total_can))"
   ]
  },
  {
   "cell_type": "code",
   "execution_count": 13,
   "id": "466b42d6",
   "metadata": {},
   "outputs": [
    {
     "name": "stdout",
     "output_type": "stream",
     "text": [
      "4832\n",
      "151.0\n"
     ]
    }
   ],
   "source": [
    "present_emp = [122, 67, 83, 67,34, 90, 142, 187, 44, 89]\n",
    "n = 10\n",
    "spend = []\n",
    "i = 0\n",
    "while i < n:\n",
    "    if present_emp[i] > 100:\n",
    "        spend.append((present_emp[i] - 100) * 32)\n",
    "    i += 1\n",
    "print(sum(spend))\n",
    "print(sum(spend)/32)"
   ]
  },
  {
   "cell_type": "code",
   "execution_count": 16,
   "id": "4af3a87b",
   "metadata": {},
   "outputs": [
    {
     "name": "stdout",
     "output_type": "stream",
     "text": [
      "66.88888888888889\n"
     ]
    }
   ],
   "source": [
    "speed_data = [120, 80, 70, 50, 44, 45, 78, 57, 58]\n",
    "n = 9\n",
    "print(sum(speed_data)/n)\n"
   ]
  },
  {
   "cell_type": "code",
   "execution_count": 21,
   "id": "4da99772",
   "metadata": {},
   "outputs": [
    {
     "name": "stdout",
     "output_type": "stream",
     "text": [
      "[2, 2.0, 3]\n",
      "7.0\n"
     ]
    }
   ],
   "source": [
    "boxes = [6, 8, 9]\n",
    "n = 3\n",
    "eat_daily = 4\n",
    "total_days = []\n",
    "for data in boxes:\n",
    "    x = data / eat_daily\n",
    "    if x - int(x) >0:\n",
    "        x = int(x) + 1\n",
    "    total_days.append(x)\n",
    "print(total_days)\n",
    "print(sum(total_days))\n"
   ]
  },
  {
   "cell_type": "code",
   "execution_count": null,
   "id": "9aab88ac",
   "metadata": {},
   "outputs": [],
   "source": [
    "wieght_data = [20, 55, 80, 33]\n",
    "n = 4\n",
    "weigth_hold = 43\n",
    "# Output: the boat weigth is 20, boat is set for sail\n",
    "# the boat weight is 55, boat isover weight"
   ]
  },
  {
   "cell_type": "code",
   "execution_count": 26,
   "id": "4bcbe067",
   "metadata": {},
   "outputs": [
    {
     "name": "stdout",
     "output_type": "stream",
     "text": [
      "3\n",
      "[45, 89, 69, 26, 90, 67, 44, 26, 67, 26]\n"
     ]
    }
   ],
   "source": [
    "marks = [45, 89, 69, 36, 90, 67, 44, 36, 67, 36]\n",
    "count_ = marks.count(36)\n",
    "print(count_)\n",
    "for _ in range(count_):\n",
    "    index_ = marks.index(36)\n",
    "    marks[index_] = 26\n",
    "print(marks)"
   ]
  },
  {
   "cell_type": "code",
   "execution_count": 28,
   "id": "14166684",
   "metadata": {},
   "outputs": [
    {
     "name": "stdout",
     "output_type": "stream",
     "text": [
      "['TG', 'MH', 'TN', 'UT'] ['Hyderabad', 'Mumbai', 'Chennai', 'Lucknow']\n"
     ]
    }
   ],
   "source": [
    "data_1 = [\"Hyderabad\", \"Mumbai\", \"Chennai\", \"Lucknow\"]\n",
    "data_2 = [\"TG\",\"MH\",\"TN\",\"UT\"]\n",
    "data_1, data_2 = data_2,data_1\n",
    "print(data_1,data_2)"
   ]
  },
  {
   "cell_type": "code",
   "execution_count": 33,
   "id": "0f4e8b78",
   "metadata": {},
   "outputs": [
    {
     "name": "stdout",
     "output_type": "stream",
     "text": [
      "Profit Profit Loss Loss No profit, No loss Loss\n"
     ]
    }
   ],
   "source": [
    "cost_data = [1200, 6700, 7799, 700, 400, 7854]\n",
    "sell_data = [1290, 7800, 6700, 460, 400, 7780]\n",
    "result = []\n",
    "for i in range(len(cost_data)):\n",
    "    if cost_data[i]>sell_data[i]:\n",
    "        result.append(\"Loss\")\n",
    "    elif cost_data[i] < sell_data[i]:\n",
    "        result.append(\"Profit\")\n",
    "    else:\n",
    "        result.append(\"No profit, No loss\")\n",
    "print(*result)"
   ]
  },
  {
   "cell_type": "code",
   "execution_count": 34,
   "id": "c2235853",
   "metadata": {},
   "outputs": [
    {
     "name": "stdout",
     "output_type": "stream",
     "text": [
      "['fail', 'pass', 'pass', 'fail', 'fail', 'fail']\n"
     ]
    }
   ],
   "source": [
    "data1 = [35, 46, 40, 42, 90, 67]\n",
    "data2 = [32, 43, 78, 34, 29, 0]\n",
    "res = []\n",
    "for i in range(len(data1)):\n",
    "    if data1[i]>=35 and data2[i]>=35:\n",
    "        res.append(\"pass\")\n",
    "    else:\n",
    "        res.append(\"fail\")\n",
    "print(res)\n"
   ]
  },
  {
   "cell_type": "code",
   "execution_count": null,
   "id": "42b6705e",
   "metadata": {},
   "outputs": [
    {
     "name": "stdout",
     "output_type": "stream",
     "text": [
      "[9, 2, 3, 4, 5, 6, 7, 8]\n"
     ]
    }
   ],
   "source": [
    "arr = [2,3,4,5,6,7,8,9]\n",
    "n  = int(input())\n",
    "res = [arr[-1],*arr[:-1]]\n",
    "print(res)"
   ]
  },
  {
   "cell_type": "code",
   "execution_count": null,
   "id": "7d72f731",
   "metadata": {},
   "outputs": [],
   "source": []
  }
 ],
 "metadata": {
  "kernelspec": {
   "display_name": "Python 3",
   "language": "python",
   "name": "python3"
  },
  "language_info": {
   "codemirror_mode": {
    "name": "ipython",
    "version": 3
   },
   "file_extension": ".py",
   "mimetype": "text/x-python",
   "name": "python",
   "nbconvert_exporter": "python",
   "pygments_lexer": "ipython3",
   "version": "3.7.0"
  }
 },
 "nbformat": 4,
 "nbformat_minor": 5
}
